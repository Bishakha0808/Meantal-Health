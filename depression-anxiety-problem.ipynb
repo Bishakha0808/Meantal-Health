{
 "cells": [
  {
   "cell_type": "code",
   "execution_count": 1,
   "metadata": {
    "_cell_guid": "b1076dfc-b9ad-4769-8c92-a6c4dae69d19",
    "_uuid": "8f2839f25d086af736a60e9eeb907d3b93b6e0e5",
    "execution": {
     "iopub.execute_input": "2025-02-07T14:45:03.423003Z",
     "iopub.status.busy": "2025-02-07T14:45:03.422826Z",
     "iopub.status.idle": "2025-02-07T14:45:04.350809Z",
     "shell.execute_reply": "2025-02-07T14:45:04.349949Z",
     "shell.execute_reply.started": "2025-02-07T14:45:03.422985Z"
    },
    "trusted": true
   },
   "outputs": [
    {
     "name": "stdout",
     "output_type": "stream",
     "text": [
      "/kaggle/input/depression-and-anxiety-data/depression_anxiety_data.csv\n"
     ]
    }
   ],
   "source": [
    "# This Python 3 environment comes with many helpful analytics libraries installed\n",
    "# It is defined by the kaggle/python Docker image: https://github.com/kaggle/docker-python\n",
    "# For example, here's several helpful packages to load\n",
    "\n",
    "import numpy as np # linear algebra\n",
    "import pandas as pd # data processing, CSV file I/O (e.g. pd.read_csv)\n",
    "\n",
    "# Input data files are available in the read-only \"../input/\" directory\n",
    "# For example, running this (by clicking run or pressing Shift+Enter) will list all files under the input directory\n",
    "\n",
    "import os\n",
    "for dirname, _, filenames in os.walk('/kaggle/input'):\n",
    "    for filename in filenames:\n",
    "        print(os.path.join(dirname, filename))\n",
    "\n",
    "# You can write up to 20GB to the current directory (/kaggle/working/) that gets preserved as output when you create a version using \"Save & Run All\" \n",
    "# You can also write temporary files to /kaggle/temp/, but they won't be saved outside of the current session"
   ]
  },
  {
   "cell_type": "code",
   "execution_count": 2,
   "metadata": {
    "execution": {
     "iopub.execute_input": "2025-02-07T14:45:50.191738Z",
     "iopub.status.busy": "2025-02-07T14:45:50.191460Z",
     "iopub.status.idle": "2025-02-07T14:45:50.214701Z",
     "shell.execute_reply": "2025-02-07T14:45:50.213793Z",
     "shell.execute_reply.started": "2025-02-07T14:45:50.191718Z"
    },
    "trusted": true
   },
   "outputs": [],
   "source": [
    "df=pd.read_csv('/kaggle/input/depression-and-anxiety-data/depression_anxiety_data.csv')"
   ]
  },
  {
   "cell_type": "code",
   "execution_count": 3,
   "metadata": {
    "execution": {
     "iopub.execute_input": "2025-02-07T14:45:51.323923Z",
     "iopub.status.busy": "2025-02-07T14:45:51.323623Z",
     "iopub.status.idle": "2025-02-07T14:45:51.329543Z",
     "shell.execute_reply": "2025-02-07T14:45:51.328748Z",
     "shell.execute_reply.started": "2025-02-07T14:45:51.323897Z"
    },
    "trusted": true
   },
   "outputs": [
    {
     "data": {
      "text/plain": [
       "(783, 19)"
      ]
     },
     "execution_count": 3,
     "metadata": {},
     "output_type": "execute_result"
    }
   ],
   "source": [
    "df.shape"
   ]
  },
  {
   "cell_type": "code",
   "execution_count": 4,
   "metadata": {
    "execution": {
     "iopub.execute_input": "2025-02-07T14:45:52.116651Z",
     "iopub.status.busy": "2025-02-07T14:45:52.116340Z",
     "iopub.status.idle": "2025-02-07T14:45:52.145438Z",
     "shell.execute_reply": "2025-02-07T14:45:52.144596Z",
     "shell.execute_reply.started": "2025-02-07T14:45:52.116623Z"
    },
    "trusted": true
   },
   "outputs": [
    {
     "data": {
      "text/html": [
       "<div>\n",
       "<style scoped>\n",
       "    .dataframe tbody tr th:only-of-type {\n",
       "        vertical-align: middle;\n",
       "    }\n",
       "\n",
       "    .dataframe tbody tr th {\n",
       "        vertical-align: top;\n",
       "    }\n",
       "\n",
       "    .dataframe thead th {\n",
       "        text-align: right;\n",
       "    }\n",
       "</style>\n",
       "<table border=\"1\" class=\"dataframe\">\n",
       "  <thead>\n",
       "    <tr style=\"text-align: right;\">\n",
       "      <th></th>\n",
       "      <th>id</th>\n",
       "      <th>school_year</th>\n",
       "      <th>age</th>\n",
       "      <th>gender</th>\n",
       "      <th>bmi</th>\n",
       "      <th>who_bmi</th>\n",
       "      <th>phq_score</th>\n",
       "      <th>depression_severity</th>\n",
       "      <th>depressiveness</th>\n",
       "      <th>suicidal</th>\n",
       "      <th>depression_diagnosis</th>\n",
       "      <th>depression_treatment</th>\n",
       "      <th>gad_score</th>\n",
       "      <th>anxiety_severity</th>\n",
       "      <th>anxiousness</th>\n",
       "      <th>anxiety_diagnosis</th>\n",
       "      <th>anxiety_treatment</th>\n",
       "      <th>epworth_score</th>\n",
       "      <th>sleepiness</th>\n",
       "    </tr>\n",
       "  </thead>\n",
       "  <tbody>\n",
       "    <tr>\n",
       "      <th>0</th>\n",
       "      <td>1</td>\n",
       "      <td>1</td>\n",
       "      <td>19</td>\n",
       "      <td>male</td>\n",
       "      <td>33.333333</td>\n",
       "      <td>Class I Obesity</td>\n",
       "      <td>9</td>\n",
       "      <td>Mild</td>\n",
       "      <td>False</td>\n",
       "      <td>False</td>\n",
       "      <td>False</td>\n",
       "      <td>False</td>\n",
       "      <td>11</td>\n",
       "      <td>Moderate</td>\n",
       "      <td>True</td>\n",
       "      <td>False</td>\n",
       "      <td>False</td>\n",
       "      <td>7.0</td>\n",
       "      <td>False</td>\n",
       "    </tr>\n",
       "    <tr>\n",
       "      <th>1</th>\n",
       "      <td>2</td>\n",
       "      <td>1</td>\n",
       "      <td>18</td>\n",
       "      <td>male</td>\n",
       "      <td>19.841270</td>\n",
       "      <td>Normal</td>\n",
       "      <td>8</td>\n",
       "      <td>Mild</td>\n",
       "      <td>False</td>\n",
       "      <td>False</td>\n",
       "      <td>False</td>\n",
       "      <td>False</td>\n",
       "      <td>5</td>\n",
       "      <td>Mild</td>\n",
       "      <td>False</td>\n",
       "      <td>False</td>\n",
       "      <td>False</td>\n",
       "      <td>14.0</td>\n",
       "      <td>True</td>\n",
       "    </tr>\n",
       "    <tr>\n",
       "      <th>2</th>\n",
       "      <td>3</td>\n",
       "      <td>1</td>\n",
       "      <td>19</td>\n",
       "      <td>male</td>\n",
       "      <td>25.102391</td>\n",
       "      <td>Overweight</td>\n",
       "      <td>8</td>\n",
       "      <td>Mild</td>\n",
       "      <td>False</td>\n",
       "      <td>False</td>\n",
       "      <td>False</td>\n",
       "      <td>False</td>\n",
       "      <td>6</td>\n",
       "      <td>Mild</td>\n",
       "      <td>False</td>\n",
       "      <td>False</td>\n",
       "      <td>False</td>\n",
       "      <td>6.0</td>\n",
       "      <td>False</td>\n",
       "    </tr>\n",
       "    <tr>\n",
       "      <th>3</th>\n",
       "      <td>4</td>\n",
       "      <td>1</td>\n",
       "      <td>18</td>\n",
       "      <td>female</td>\n",
       "      <td>23.738662</td>\n",
       "      <td>Normal</td>\n",
       "      <td>19</td>\n",
       "      <td>Moderately severe</td>\n",
       "      <td>True</td>\n",
       "      <td>True</td>\n",
       "      <td>False</td>\n",
       "      <td>False</td>\n",
       "      <td>15</td>\n",
       "      <td>Severe</td>\n",
       "      <td>True</td>\n",
       "      <td>False</td>\n",
       "      <td>False</td>\n",
       "      <td>11.0</td>\n",
       "      <td>True</td>\n",
       "    </tr>\n",
       "    <tr>\n",
       "      <th>4</th>\n",
       "      <td>5</td>\n",
       "      <td>1</td>\n",
       "      <td>18</td>\n",
       "      <td>male</td>\n",
       "      <td>25.617284</td>\n",
       "      <td>Overweight</td>\n",
       "      <td>6</td>\n",
       "      <td>Mild</td>\n",
       "      <td>False</td>\n",
       "      <td>False</td>\n",
       "      <td>False</td>\n",
       "      <td>False</td>\n",
       "      <td>14</td>\n",
       "      <td>Moderate</td>\n",
       "      <td>True</td>\n",
       "      <td>False</td>\n",
       "      <td>False</td>\n",
       "      <td>3.0</td>\n",
       "      <td>False</td>\n",
       "    </tr>\n",
       "  </tbody>\n",
       "</table>\n",
       "</div>"
      ],
      "text/plain": [
       "   id  school_year  age  gender        bmi          who_bmi  phq_score  \\\n",
       "0   1            1   19    male  33.333333  Class I Obesity          9   \n",
       "1   2            1   18    male  19.841270           Normal          8   \n",
       "2   3            1   19    male  25.102391       Overweight          8   \n",
       "3   4            1   18  female  23.738662           Normal         19   \n",
       "4   5            1   18    male  25.617284       Overweight          6   \n",
       "\n",
       "  depression_severity depressiveness suicidal depression_diagnosis  \\\n",
       "0                Mild          False    False                False   \n",
       "1                Mild          False    False                False   \n",
       "2                Mild          False    False                False   \n",
       "3   Moderately severe           True     True                False   \n",
       "4                Mild          False    False                False   \n",
       "\n",
       "  depression_treatment  gad_score anxiety_severity anxiousness  \\\n",
       "0                False         11         Moderate        True   \n",
       "1                False          5             Mild       False   \n",
       "2                False          6             Mild       False   \n",
       "3                False         15           Severe        True   \n",
       "4                False         14         Moderate        True   \n",
       "\n",
       "  anxiety_diagnosis anxiety_treatment  epworth_score sleepiness  \n",
       "0             False             False            7.0      False  \n",
       "1             False             False           14.0       True  \n",
       "2             False             False            6.0      False  \n",
       "3             False             False           11.0       True  \n",
       "4             False             False            3.0      False  "
      ]
     },
     "execution_count": 4,
     "metadata": {},
     "output_type": "execute_result"
    }
   ],
   "source": [
    "df.head()"
   ]
  },
  {
   "cell_type": "code",
   "execution_count": 5,
   "metadata": {
    "execution": {
     "iopub.execute_input": "2025-02-07T14:45:54.534350Z",
     "iopub.status.busy": "2025-02-07T14:45:54.534020Z",
     "iopub.status.idle": "2025-02-07T14:45:54.543255Z",
     "shell.execute_reply": "2025-02-07T14:45:54.542546Z",
     "shell.execute_reply.started": "2025-02-07T14:45:54.534323Z"
    },
    "trusted": true
   },
   "outputs": [
    {
     "data": {
      "text/plain": [
       "id                      0\n",
       "school_year             0\n",
       "age                     0\n",
       "gender                  0\n",
       "bmi                     0\n",
       "who_bmi                 0\n",
       "phq_score               0\n",
       "depression_severity     4\n",
       "depressiveness          3\n",
       "suicidal                1\n",
       "depression_diagnosis    1\n",
       "depression_treatment    4\n",
       "gad_score               0\n",
       "anxiety_severity        0\n",
       "anxiousness             6\n",
       "anxiety_diagnosis       4\n",
       "anxiety_treatment       2\n",
       "epworth_score           8\n",
       "sleepiness              8\n",
       "dtype: int64"
      ]
     },
     "execution_count": 5,
     "metadata": {},
     "output_type": "execute_result"
    }
   ],
   "source": [
    "df.isnull().sum()"
   ]
  },
  {
   "cell_type": "code",
   "execution_count": 6,
   "metadata": {
    "execution": {
     "iopub.execute_input": "2025-02-07T14:45:59.147522Z",
     "iopub.status.busy": "2025-02-07T14:45:59.147179Z",
     "iopub.status.idle": "2025-02-07T14:45:59.163086Z",
     "shell.execute_reply": "2025-02-07T14:45:59.162177Z",
     "shell.execute_reply.started": "2025-02-07T14:45:59.147489Z"
    },
    "trusted": true
   },
   "outputs": [
    {
     "data": {
      "text/plain": [
       "<bound method DataFrame.info of       id  school_year  age  gender        bmi          who_bmi  phq_score  \\\n",
       "0      1            1   19    male  33.333333  Class I Obesity          9   \n",
       "1      2            1   18    male  19.841270           Normal          8   \n",
       "2      3            1   19    male  25.102391       Overweight          8   \n",
       "3      4            1   18  female  23.738662           Normal         19   \n",
       "4      5            1   18    male  25.617284       Overweight          6   \n",
       "..   ...          ...  ...     ...        ...              ...        ...   \n",
       "778  779            4   24  female  21.096191           Normal          6   \n",
       "779  780            4   22    male  25.308642       Overweight          4   \n",
       "780  781            4   22    male  22.720438           Normal          2   \n",
       "781  782            4   22  female  23.033168           Normal         17   \n",
       "782  783            4   22    male  22.598140           Normal          6   \n",
       "\n",
       "    depression_severity depressiveness suicidal depression_diagnosis  \\\n",
       "0                  Mild          False    False                False   \n",
       "1                  Mild          False    False                False   \n",
       "2                  Mild          False    False                False   \n",
       "3     Moderately severe           True     True                False   \n",
       "4                  Mild          False    False                False   \n",
       "..                  ...            ...      ...                  ...   \n",
       "778                Mild          False    False                False   \n",
       "779        None-minimal          False    False                False   \n",
       "780        None-minimal          False    False                False   \n",
       "781   Moderately severe           True    False                False   \n",
       "782                Mild          False    False                False   \n",
       "\n",
       "    depression_treatment  gad_score anxiety_severity anxiousness  \\\n",
       "0                  False         11         Moderate        True   \n",
       "1                  False          5             Mild       False   \n",
       "2                  False          6             Mild       False   \n",
       "3                  False         15           Severe        True   \n",
       "4                  False         14         Moderate        True   \n",
       "..                   ...        ...              ...         ...   \n",
       "778                False          1     None-minimal       False   \n",
       "779                False          6             Mild       False   \n",
       "780                False          5             Mild       False   \n",
       "781                False         19           Severe        True   \n",
       "782                False          6             Mild       False   \n",
       "\n",
       "    anxiety_diagnosis anxiety_treatment  epworth_score sleepiness  \n",
       "0               False             False            7.0      False  \n",
       "1               False             False           14.0       True  \n",
       "2               False             False            6.0      False  \n",
       "3               False             False           11.0       True  \n",
       "4               False             False            3.0      False  \n",
       "..                ...               ...            ...        ...  \n",
       "778             False             False            3.0      False  \n",
       "779             False             False            3.0      False  \n",
       "780             False             False            4.0      False  \n",
       "781             False             False           15.0       True  \n",
       "782             False             False            0.0      False  \n",
       "\n",
       "[783 rows x 19 columns]>"
      ]
     },
     "execution_count": 6,
     "metadata": {},
     "output_type": "execute_result"
    }
   ],
   "source": [
    "df.info"
   ]
  },
  {
   "cell_type": "code",
   "execution_count": 7,
   "metadata": {
    "execution": {
     "iopub.execute_input": "2025-02-07T14:47:00.102607Z",
     "iopub.status.busy": "2025-02-07T14:47:00.102307Z",
     "iopub.status.idle": "2025-02-07T14:47:00.129419Z",
     "shell.execute_reply": "2025-02-07T14:47:00.128737Z",
     "shell.execute_reply.started": "2025-02-07T14:47:00.102585Z"
    },
    "trusted": true
   },
   "outputs": [
    {
     "data": {
      "text/html": [
       "<div>\n",
       "<style scoped>\n",
       "    .dataframe tbody tr th:only-of-type {\n",
       "        vertical-align: middle;\n",
       "    }\n",
       "\n",
       "    .dataframe tbody tr th {\n",
       "        vertical-align: top;\n",
       "    }\n",
       "\n",
       "    .dataframe thead th {\n",
       "        text-align: right;\n",
       "    }\n",
       "</style>\n",
       "<table border=\"1\" class=\"dataframe\">\n",
       "  <thead>\n",
       "    <tr style=\"text-align: right;\">\n",
       "      <th></th>\n",
       "      <th>id</th>\n",
       "      <th>school_year</th>\n",
       "      <th>age</th>\n",
       "      <th>bmi</th>\n",
       "      <th>phq_score</th>\n",
       "      <th>gad_score</th>\n",
       "      <th>epworth_score</th>\n",
       "    </tr>\n",
       "  </thead>\n",
       "  <tbody>\n",
       "    <tr>\n",
       "      <th>count</th>\n",
       "      <td>783.000000</td>\n",
       "      <td>783.000000</td>\n",
       "      <td>783.000000</td>\n",
       "      <td>783.000000</td>\n",
       "      <td>783.000000</td>\n",
       "      <td>783.000000</td>\n",
       "      <td>775.000000</td>\n",
       "    </tr>\n",
       "    <tr>\n",
       "      <th>mean</th>\n",
       "      <td>392.000000</td>\n",
       "      <td>2.277139</td>\n",
       "      <td>20.233716</td>\n",
       "      <td>23.420533</td>\n",
       "      <td>7.123883</td>\n",
       "      <td>6.810983</td>\n",
       "      <td>6.376774</td>\n",
       "    </tr>\n",
       "    <tr>\n",
       "      <th>std</th>\n",
       "      <td>226.176922</td>\n",
       "      <td>1.163633</td>\n",
       "      <td>1.767217</td>\n",
       "      <td>4.563630</td>\n",
       "      <td>4.426580</td>\n",
       "      <td>4.727352</td>\n",
       "      <td>3.996443</td>\n",
       "    </tr>\n",
       "    <tr>\n",
       "      <th>min</th>\n",
       "      <td>1.000000</td>\n",
       "      <td>1.000000</td>\n",
       "      <td>18.000000</td>\n",
       "      <td>0.000000</td>\n",
       "      <td>0.000000</td>\n",
       "      <td>0.000000</td>\n",
       "      <td>0.000000</td>\n",
       "    </tr>\n",
       "    <tr>\n",
       "      <th>25%</th>\n",
       "      <td>196.500000</td>\n",
       "      <td>1.000000</td>\n",
       "      <td>19.000000</td>\n",
       "      <td>20.989420</td>\n",
       "      <td>4.000000</td>\n",
       "      <td>3.000000</td>\n",
       "      <td>3.500000</td>\n",
       "    </tr>\n",
       "    <tr>\n",
       "      <th>50%</th>\n",
       "      <td>392.000000</td>\n",
       "      <td>2.000000</td>\n",
       "      <td>20.000000</td>\n",
       "      <td>23.140496</td>\n",
       "      <td>6.000000</td>\n",
       "      <td>6.000000</td>\n",
       "      <td>6.000000</td>\n",
       "    </tr>\n",
       "    <tr>\n",
       "      <th>75%</th>\n",
       "      <td>587.500000</td>\n",
       "      <td>3.000000</td>\n",
       "      <td>21.000000</td>\n",
       "      <td>25.519924</td>\n",
       "      <td>9.000000</td>\n",
       "      <td>9.000000</td>\n",
       "      <td>9.000000</td>\n",
       "    </tr>\n",
       "    <tr>\n",
       "      <th>max</th>\n",
       "      <td>783.000000</td>\n",
       "      <td>4.000000</td>\n",
       "      <td>31.000000</td>\n",
       "      <td>54.552668</td>\n",
       "      <td>24.000000</td>\n",
       "      <td>21.000000</td>\n",
       "      <td>32.000000</td>\n",
       "    </tr>\n",
       "  </tbody>\n",
       "</table>\n",
       "</div>"
      ],
      "text/plain": [
       "               id  school_year         age         bmi   phq_score  \\\n",
       "count  783.000000   783.000000  783.000000  783.000000  783.000000   \n",
       "mean   392.000000     2.277139   20.233716   23.420533    7.123883   \n",
       "std    226.176922     1.163633    1.767217    4.563630    4.426580   \n",
       "min      1.000000     1.000000   18.000000    0.000000    0.000000   \n",
       "25%    196.500000     1.000000   19.000000   20.989420    4.000000   \n",
       "50%    392.000000     2.000000   20.000000   23.140496    6.000000   \n",
       "75%    587.500000     3.000000   21.000000   25.519924    9.000000   \n",
       "max    783.000000     4.000000   31.000000   54.552668   24.000000   \n",
       "\n",
       "        gad_score  epworth_score  \n",
       "count  783.000000     775.000000  \n",
       "mean     6.810983       6.376774  \n",
       "std      4.727352       3.996443  \n",
       "min      0.000000       0.000000  \n",
       "25%      3.000000       3.500000  \n",
       "50%      6.000000       6.000000  \n",
       "75%      9.000000       9.000000  \n",
       "max     21.000000      32.000000  "
      ]
     },
     "execution_count": 7,
     "metadata": {},
     "output_type": "execute_result"
    }
   ],
   "source": [
    "df.describe()"
   ]
  },
  {
   "cell_type": "code",
   "execution_count": 8,
   "metadata": {
    "execution": {
     "iopub.execute_input": "2025-02-07T14:47:43.160996Z",
     "iopub.status.busy": "2025-02-07T14:47:43.160668Z",
     "iopub.status.idle": "2025-02-07T14:47:43.180508Z",
     "shell.execute_reply": "2025-02-07T14:47:43.179380Z",
     "shell.execute_reply.started": "2025-02-07T14:47:43.160974Z"
    },
    "trusted": true
   },
   "outputs": [
    {
     "data": {
      "text/html": [
       "<div>\n",
       "<style scoped>\n",
       "    .dataframe tbody tr th:only-of-type {\n",
       "        vertical-align: middle;\n",
       "    }\n",
       "\n",
       "    .dataframe tbody tr th {\n",
       "        vertical-align: top;\n",
       "    }\n",
       "\n",
       "    .dataframe thead th {\n",
       "        text-align: right;\n",
       "    }\n",
       "</style>\n",
       "<table border=\"1\" class=\"dataframe\">\n",
       "  <thead>\n",
       "    <tr style=\"text-align: right;\">\n",
       "      <th></th>\n",
       "      <th>depressiveness</th>\n",
       "      <th>suicidal</th>\n",
       "    </tr>\n",
       "    <tr>\n",
       "      <th>gender</th>\n",
       "      <th></th>\n",
       "      <th></th>\n",
       "    </tr>\n",
       "  </thead>\n",
       "  <tbody>\n",
       "    <tr>\n",
       "      <th>female</th>\n",
       "      <td>0.305211</td>\n",
       "      <td>0.086849</td>\n",
       "    </tr>\n",
       "    <tr>\n",
       "      <th>male</th>\n",
       "      <td>0.233422</td>\n",
       "      <td>0.08971</td>\n",
       "    </tr>\n",
       "  </tbody>\n",
       "</table>\n",
       "</div>"
      ],
      "text/plain": [
       "       depressiveness  suicidal\n",
       "gender                         \n",
       "female       0.305211  0.086849\n",
       "male         0.233422   0.08971"
      ]
     },
     "execution_count": 8,
     "metadata": {},
     "output_type": "execute_result"
    }
   ],
   "source": [
    "df.groupby('gender')[['depressiveness', 'suicidal']].mean()"
   ]
  },
  {
   "cell_type": "code",
   "execution_count": 9,
   "metadata": {
    "execution": {
     "iopub.execute_input": "2025-02-07T14:48:12.562928Z",
     "iopub.status.busy": "2025-02-07T14:48:12.562619Z",
     "iopub.status.idle": "2025-02-07T14:48:13.247183Z",
     "shell.execute_reply": "2025-02-07T14:48:13.246517Z",
     "shell.execute_reply.started": "2025-02-07T14:48:12.562904Z"
    },
    "trusted": true
   },
   "outputs": [],
   "source": [
    "import seaborn as sns\n",
    "import matplotlib.pyplot as plt"
   ]
  },
  {
   "cell_type": "code",
   "execution_count": 10,
   "metadata": {
    "execution": {
     "iopub.execute_input": "2025-02-07T14:48:25.336707Z",
     "iopub.status.busy": "2025-02-07T14:48:25.336293Z",
     "iopub.status.idle": "2025-02-07T14:48:25.347309Z",
     "shell.execute_reply": "2025-02-07T14:48:25.346536Z",
     "shell.execute_reply.started": "2025-02-07T14:48:25.336682Z"
    },
    "trusted": true
   },
   "outputs": [
    {
     "data": {
      "text/html": [
       "<div>\n",
       "<style scoped>\n",
       "    .dataframe tbody tr th:only-of-type {\n",
       "        vertical-align: middle;\n",
       "    }\n",
       "\n",
       "    .dataframe tbody tr th {\n",
       "        vertical-align: top;\n",
       "    }\n",
       "\n",
       "    .dataframe thead th {\n",
       "        text-align: right;\n",
       "    }\n",
       "</style>\n",
       "<table border=\"1\" class=\"dataframe\">\n",
       "  <thead>\n",
       "    <tr style=\"text-align: right;\">\n",
       "      <th></th>\n",
       "      <th>age</th>\n",
       "      <th>depressiveness</th>\n",
       "    </tr>\n",
       "  </thead>\n",
       "  <tbody>\n",
       "    <tr>\n",
       "      <th>age</th>\n",
       "      <td>1.000000</td>\n",
       "      <td>-0.039712</td>\n",
       "    </tr>\n",
       "    <tr>\n",
       "      <th>depressiveness</th>\n",
       "      <td>-0.039712</td>\n",
       "      <td>1.000000</td>\n",
       "    </tr>\n",
       "  </tbody>\n",
       "</table>\n",
       "</div>"
      ],
      "text/plain": [
       "                     age  depressiveness\n",
       "age             1.000000       -0.039712\n",
       "depressiveness -0.039712        1.000000"
      ]
     },
     "execution_count": 10,
     "metadata": {},
     "output_type": "execute_result"
    }
   ],
   "source": [
    "df[['age', 'depressiveness']].corr()"
   ]
  },
  {
   "cell_type": "code",
   "execution_count": 11,
   "metadata": {
    "execution": {
     "iopub.execute_input": "2025-02-07T14:49:03.787197Z",
     "iopub.status.busy": "2025-02-07T14:49:03.786860Z",
     "iopub.status.idle": "2025-02-07T14:49:03.790800Z",
     "shell.execute_reply": "2025-02-07T14:49:03.790099Z",
     "shell.execute_reply.started": "2025-02-07T14:49:03.787170Z"
    },
    "trusted": true
   },
   "outputs": [],
   "source": [
    "import seaborn as sns\n",
    "import matplotlib.pyplot as plt\n",
    "import pandas as pd"
   ]
  },
  {
   "cell_type": "code",
   "execution_count": 12,
   "metadata": {
    "execution": {
     "iopub.execute_input": "2025-02-07T14:49:32.081706Z",
     "iopub.status.busy": "2025-02-07T14:49:32.081432Z",
     "iopub.status.idle": "2025-02-07T14:49:32.090416Z",
     "shell.execute_reply": "2025-02-07T14:49:32.089629Z",
     "shell.execute_reply.started": "2025-02-07T14:49:32.081686Z"
    },
    "trusted": true
   },
   "outputs": [
    {
     "data": {
      "text/plain": [
       "gender\n",
       "female    403\n",
       "male      380\n",
       "Name: count, dtype: int64"
      ]
     },
     "execution_count": 12,
     "metadata": {},
     "output_type": "execute_result"
    }
   ],
   "source": [
    "df['gender'].value_counts()"
   ]
  },
  {
   "cell_type": "code",
   "execution_count": 14,
   "metadata": {
    "execution": {
     "iopub.execute_input": "2025-02-07T14:50:00.066424Z",
     "iopub.status.busy": "2025-02-07T14:50:00.066140Z",
     "iopub.status.idle": "2025-02-07T14:50:00.071195Z",
     "shell.execute_reply": "2025-02-07T14:50:00.070510Z",
     "shell.execute_reply.started": "2025-02-07T14:50:00.066403Z"
    },
    "trusted": true
   },
   "outputs": [
    {
     "data": {
      "text/plain": [
       "Index(['id', 'school_year', 'age', 'gender', 'bmi', 'who_bmi', 'phq_score',\n",
       "       'depression_severity', 'depressiveness', 'suicidal',\n",
       "       'depression_diagnosis', 'depression_treatment', 'gad_score',\n",
       "       'anxiety_severity', 'anxiousness', 'anxiety_diagnosis',\n",
       "       'anxiety_treatment', 'epworth_score', 'sleepiness'],\n",
       "      dtype='object')"
      ]
     },
     "execution_count": 14,
     "metadata": {},
     "output_type": "execute_result"
    }
   ],
   "source": [
    "df.columns"
   ]
  },
  {
   "cell_type": "code",
   "execution_count": 15,
   "metadata": {
    "execution": {
     "iopub.execute_input": "2025-02-07T14:50:28.277923Z",
     "iopub.status.busy": "2025-02-07T14:50:28.277645Z",
     "iopub.status.idle": "2025-02-07T14:50:28.304775Z",
     "shell.execute_reply": "2025-02-07T14:50:28.303865Z",
     "shell.execute_reply.started": "2025-02-07T14:50:28.277903Z"
    },
    "trusted": true
   },
   "outputs": [
    {
     "data": {
      "text/html": [
       "<div>\n",
       "<style scoped>\n",
       "    .dataframe tbody tr th:only-of-type {\n",
       "        vertical-align: middle;\n",
       "    }\n",
       "\n",
       "    .dataframe tbody tr th {\n",
       "        vertical-align: top;\n",
       "    }\n",
       "\n",
       "    .dataframe thead th {\n",
       "        text-align: right;\n",
       "    }\n",
       "</style>\n",
       "<table border=\"1\" class=\"dataframe\">\n",
       "  <thead>\n",
       "    <tr style=\"text-align: right;\">\n",
       "      <th></th>\n",
       "      <th>count</th>\n",
       "      <th>mean</th>\n",
       "      <th>std</th>\n",
       "      <th>min</th>\n",
       "      <th>25%</th>\n",
       "      <th>50%</th>\n",
       "      <th>75%</th>\n",
       "      <th>max</th>\n",
       "    </tr>\n",
       "  </thead>\n",
       "  <tbody>\n",
       "    <tr>\n",
       "      <th>id</th>\n",
       "      <td>783.0</td>\n",
       "      <td>392.000000</td>\n",
       "      <td>226.176922</td>\n",
       "      <td>1.0</td>\n",
       "      <td>196.50000</td>\n",
       "      <td>392.000000</td>\n",
       "      <td>587.500000</td>\n",
       "      <td>783.000000</td>\n",
       "    </tr>\n",
       "    <tr>\n",
       "      <th>school_year</th>\n",
       "      <td>783.0</td>\n",
       "      <td>2.277139</td>\n",
       "      <td>1.163633</td>\n",
       "      <td>1.0</td>\n",
       "      <td>1.00000</td>\n",
       "      <td>2.000000</td>\n",
       "      <td>3.000000</td>\n",
       "      <td>4.000000</td>\n",
       "    </tr>\n",
       "    <tr>\n",
       "      <th>age</th>\n",
       "      <td>783.0</td>\n",
       "      <td>20.233716</td>\n",
       "      <td>1.767217</td>\n",
       "      <td>18.0</td>\n",
       "      <td>19.00000</td>\n",
       "      <td>20.000000</td>\n",
       "      <td>21.000000</td>\n",
       "      <td>31.000000</td>\n",
       "    </tr>\n",
       "    <tr>\n",
       "      <th>bmi</th>\n",
       "      <td>783.0</td>\n",
       "      <td>23.420533</td>\n",
       "      <td>4.563630</td>\n",
       "      <td>0.0</td>\n",
       "      <td>20.98942</td>\n",
       "      <td>23.140496</td>\n",
       "      <td>25.519924</td>\n",
       "      <td>54.552668</td>\n",
       "    </tr>\n",
       "    <tr>\n",
       "      <th>phq_score</th>\n",
       "      <td>783.0</td>\n",
       "      <td>7.123883</td>\n",
       "      <td>4.426580</td>\n",
       "      <td>0.0</td>\n",
       "      <td>4.00000</td>\n",
       "      <td>6.000000</td>\n",
       "      <td>9.000000</td>\n",
       "      <td>24.000000</td>\n",
       "    </tr>\n",
       "    <tr>\n",
       "      <th>gad_score</th>\n",
       "      <td>783.0</td>\n",
       "      <td>6.810983</td>\n",
       "      <td>4.727352</td>\n",
       "      <td>0.0</td>\n",
       "      <td>3.00000</td>\n",
       "      <td>6.000000</td>\n",
       "      <td>9.000000</td>\n",
       "      <td>21.000000</td>\n",
       "    </tr>\n",
       "    <tr>\n",
       "      <th>epworth_score</th>\n",
       "      <td>775.0</td>\n",
       "      <td>6.376774</td>\n",
       "      <td>3.996443</td>\n",
       "      <td>0.0</td>\n",
       "      <td>3.50000</td>\n",
       "      <td>6.000000</td>\n",
       "      <td>9.000000</td>\n",
       "      <td>32.000000</td>\n",
       "    </tr>\n",
       "  </tbody>\n",
       "</table>\n",
       "</div>"
      ],
      "text/plain": [
       "               count        mean         std   min        25%         50%  \\\n",
       "id             783.0  392.000000  226.176922   1.0  196.50000  392.000000   \n",
       "school_year    783.0    2.277139    1.163633   1.0    1.00000    2.000000   \n",
       "age            783.0   20.233716    1.767217  18.0   19.00000   20.000000   \n",
       "bmi            783.0   23.420533    4.563630   0.0   20.98942   23.140496   \n",
       "phq_score      783.0    7.123883    4.426580   0.0    4.00000    6.000000   \n",
       "gad_score      783.0    6.810983    4.727352   0.0    3.00000    6.000000   \n",
       "epworth_score  775.0    6.376774    3.996443   0.0    3.50000    6.000000   \n",
       "\n",
       "                      75%         max  \n",
       "id             587.500000  783.000000  \n",
       "school_year      3.000000    4.000000  \n",
       "age             21.000000   31.000000  \n",
       "bmi             25.519924   54.552668  \n",
       "phq_score        9.000000   24.000000  \n",
       "gad_score        9.000000   21.000000  \n",
       "epworth_score    9.000000   32.000000  "
      ]
     },
     "execution_count": 15,
     "metadata": {},
     "output_type": "execute_result"
    }
   ],
   "source": [
    "df.describe().T"
   ]
  },
  {
   "cell_type": "markdown",
   "metadata": {},
   "source": [
    "# #Data Cleaning and Handling Missing Values\n"
   ]
  },
  {
   "cell_type": "code",
   "execution_count": 16,
   "metadata": {
    "execution": {
     "iopub.execute_input": "2025-02-07T14:56:52.339786Z",
     "iopub.status.busy": "2025-02-07T14:56:52.339488Z",
     "iopub.status.idle": "2025-02-07T14:56:52.348326Z",
     "shell.execute_reply": "2025-02-07T14:56:52.347301Z",
     "shell.execute_reply.started": "2025-02-07T14:56:52.339764Z"
    },
    "trusted": true
   },
   "outputs": [
    {
     "name": "stderr",
     "output_type": "stream",
     "text": [
      "<ipython-input-16-e9443599d05e>:1: FutureWarning: DataFrame.fillna with 'method' is deprecated and will raise in a future version. Use obj.ffill() or obj.bfill() instead.\n",
      "  df.fillna(method='ffill', inplace=True)\n",
      "<ipython-input-16-e9443599d05e>:1: FutureWarning: Downcasting object dtype arrays on .fillna, .ffill, .bfill is deprecated and will change in a future version. Call result.infer_objects(copy=False) instead. To opt-in to the future behavior, set `pd.set_option('future.no_silent_downcasting', True)`\n",
      "  df.fillna(method='ffill', inplace=True)\n"
     ]
    }
   ],
   "source": [
    "df.fillna(method='ffill', inplace=True)"
   ]
  },
  {
   "cell_type": "code",
   "execution_count": 17,
   "metadata": {
    "execution": {
     "iopub.execute_input": "2025-02-07T14:57:15.254214Z",
     "iopub.status.busy": "2025-02-07T14:57:15.253878Z",
     "iopub.status.idle": "2025-02-07T14:57:15.262395Z",
     "shell.execute_reply": "2025-02-07T14:57:15.261518Z",
     "shell.execute_reply.started": "2025-02-07T14:57:15.254185Z"
    },
    "trusted": true
   },
   "outputs": [
    {
     "data": {
      "text/plain": [
       "id                      0\n",
       "school_year             0\n",
       "age                     0\n",
       "gender                  0\n",
       "bmi                     0\n",
       "who_bmi                 0\n",
       "phq_score               0\n",
       "depression_severity     0\n",
       "depressiveness          0\n",
       "suicidal                0\n",
       "depression_diagnosis    0\n",
       "depression_treatment    0\n",
       "gad_score               0\n",
       "anxiety_severity        0\n",
       "anxiousness             0\n",
       "anxiety_diagnosis       0\n",
       "anxiety_treatment       0\n",
       "epworth_score           0\n",
       "sleepiness              0\n",
       "dtype: int64"
      ]
     },
     "execution_count": 17,
     "metadata": {},
     "output_type": "execute_result"
    }
   ],
   "source": [
    "df.isnull().sum()"
   ]
  },
  {
   "cell_type": "code",
   "execution_count": 18,
   "metadata": {
    "execution": {
     "iopub.execute_input": "2025-02-07T14:57:27.991498Z",
     "iopub.status.busy": "2025-02-07T14:57:27.991192Z",
     "iopub.status.idle": "2025-02-07T14:57:27.999954Z",
     "shell.execute_reply": "2025-02-07T14:57:27.999100Z",
     "shell.execute_reply.started": "2025-02-07T14:57:27.991465Z"
    },
    "trusted": true
   },
   "outputs": [
    {
     "name": "stdout",
     "output_type": "stream",
     "text": [
      "Number of duplicate rows: 0\n"
     ]
    }
   ],
   "source": [
    "duplicates = df.duplicated().sum()\n",
    "print(f\"Number of duplicate rows: {duplicates}\")\n"
   ]
  },
  {
   "cell_type": "code",
   "execution_count": 19,
   "metadata": {
    "execution": {
     "iopub.execute_input": "2025-02-07T14:57:40.709667Z",
     "iopub.status.busy": "2025-02-07T14:57:40.709392Z",
     "iopub.status.idle": "2025-02-07T14:57:40.716600Z",
     "shell.execute_reply": "2025-02-07T14:57:40.715850Z",
     "shell.execute_reply.started": "2025-02-07T14:57:40.709646Z"
    },
    "trusted": true
   },
   "outputs": [],
   "source": [
    "df = df.drop_duplicates()"
   ]
  },
  {
   "cell_type": "code",
   "execution_count": 20,
   "metadata": {
    "execution": {
     "iopub.execute_input": "2025-02-07T14:57:58.087280Z",
     "iopub.status.busy": "2025-02-07T14:57:58.086793Z",
     "iopub.status.idle": "2025-02-07T14:57:58.093754Z",
     "shell.execute_reply": "2025-02-07T14:57:58.092711Z",
     "shell.execute_reply.started": "2025-02-07T14:57:58.087229Z"
    },
    "trusted": true
   },
   "outputs": [],
   "source": [
    "df['gender'] = df['gender'].map({'male': 0, 'female': 1})  # Binary encoding for gender"
   ]
  },
  {
   "cell_type": "code",
   "execution_count": 21,
   "metadata": {
    "execution": {
     "iopub.execute_input": "2025-02-07T14:58:12.561389Z",
     "iopub.status.busy": "2025-02-07T14:58:12.561061Z",
     "iopub.status.idle": "2025-02-07T14:58:12.567585Z",
     "shell.execute_reply": "2025-02-07T14:58:12.566715Z",
     "shell.execute_reply.started": "2025-02-07T14:58:12.561365Z"
    },
    "trusted": true
   },
   "outputs": [
    {
     "data": {
      "text/plain": [
       "id                        int64\n",
       "school_year               int64\n",
       "age                       int64\n",
       "gender                    int64\n",
       "bmi                     float64\n",
       "who_bmi                  object\n",
       "phq_score                 int64\n",
       "depression_severity      object\n",
       "depressiveness             bool\n",
       "suicidal                   bool\n",
       "depression_diagnosis       bool\n",
       "depression_treatment       bool\n",
       "gad_score                 int64\n",
       "anxiety_severity         object\n",
       "anxiousness                bool\n",
       "anxiety_diagnosis          bool\n",
       "anxiety_treatment          bool\n",
       "epworth_score           float64\n",
       "sleepiness                 bool\n",
       "dtype: object"
      ]
     },
     "execution_count": 21,
     "metadata": {},
     "output_type": "execute_result"
    }
   ],
   "source": [
    "df.dtypes"
   ]
  },
  {
   "cell_type": "code",
   "execution_count": 22,
   "metadata": {
    "execution": {
     "iopub.execute_input": "2025-02-07T14:58:31.281735Z",
     "iopub.status.busy": "2025-02-07T14:58:31.281446Z",
     "iopub.status.idle": "2025-02-07T14:58:31.286670Z",
     "shell.execute_reply": "2025-02-07T14:58:31.285934Z",
     "shell.execute_reply.started": "2025-02-07T14:58:31.281714Z"
    },
    "trusted": true
   },
   "outputs": [],
   "source": [
    "df['who_bmi'] = df['who_bmi'].map({'Normal': 0, 'Overweight': 1, 'Class I Obesity': 2})"
   ]
  },
  {
   "cell_type": "code",
   "execution_count": 23,
   "metadata": {
    "execution": {
     "iopub.execute_input": "2025-02-07T14:58:39.727793Z",
     "iopub.status.busy": "2025-02-07T14:58:39.727508Z",
     "iopub.status.idle": "2025-02-07T14:58:39.733665Z",
     "shell.execute_reply": "2025-02-07T14:58:39.732940Z",
     "shell.execute_reply.started": "2025-02-07T14:58:39.727773Z"
    },
    "trusted": true
   },
   "outputs": [
    {
     "data": {
      "text/plain": [
       "id                        int64\n",
       "school_year               int64\n",
       "age                       int64\n",
       "gender                    int64\n",
       "bmi                     float64\n",
       "who_bmi                 float64\n",
       "phq_score                 int64\n",
       "depression_severity      object\n",
       "depressiveness             bool\n",
       "suicidal                   bool\n",
       "depression_diagnosis       bool\n",
       "depression_treatment       bool\n",
       "gad_score                 int64\n",
       "anxiety_severity         object\n",
       "anxiousness                bool\n",
       "anxiety_diagnosis          bool\n",
       "anxiety_treatment          bool\n",
       "epworth_score           float64\n",
       "sleepiness                 bool\n",
       "dtype: object"
      ]
     },
     "execution_count": 23,
     "metadata": {},
     "output_type": "execute_result"
    }
   ],
   "source": [
    "df.dtypes"
   ]
  },
  {
   "cell_type": "code",
   "execution_count": 27,
   "metadata": {
    "execution": {
     "iopub.execute_input": "2025-02-07T15:00:21.808581Z",
     "iopub.status.busy": "2025-02-07T15:00:21.808270Z",
     "iopub.status.idle": "2025-02-07T15:00:21.814906Z",
     "shell.execute_reply": "2025-02-07T15:00:21.814047Z",
     "shell.execute_reply.started": "2025-02-07T15:00:21.808557Z"
    },
    "trusted": true
   },
   "outputs": [],
   "source": [
    "bool_cols = ['depressiveness', 'suicidal', 'depression_diagnosis', 'depression_treatment',\n",
    "             'anxiety_diagnosis', 'anxiety_treatment','anxiousness', 'sleepiness']\n",
    "df[bool_cols] = df[bool_cols].astype(int)"
   ]
  },
  {
   "cell_type": "code",
   "execution_count": 28,
   "metadata": {
    "execution": {
     "iopub.execute_input": "2025-02-07T15:00:24.199386Z",
     "iopub.status.busy": "2025-02-07T15:00:24.199116Z",
     "iopub.status.idle": "2025-02-07T15:00:24.205597Z",
     "shell.execute_reply": "2025-02-07T15:00:24.204809Z",
     "shell.execute_reply.started": "2025-02-07T15:00:24.199366Z"
    },
    "trusted": true
   },
   "outputs": [
    {
     "data": {
      "text/plain": [
       "id                        int64\n",
       "school_year               int64\n",
       "age                       int64\n",
       "gender                    int64\n",
       "bmi                     float64\n",
       "who_bmi                 float64\n",
       "phq_score                 int64\n",
       "depression_severity      object\n",
       "depressiveness            int64\n",
       "suicidal                  int64\n",
       "depression_diagnosis      int64\n",
       "depression_treatment      int64\n",
       "gad_score                 int64\n",
       "anxiety_severity         object\n",
       "anxiousness               int64\n",
       "anxiety_diagnosis         int64\n",
       "anxiety_treatment         int64\n",
       "epworth_score           float64\n",
       "sleepiness                int64\n",
       "dtype: object"
      ]
     },
     "execution_count": 28,
     "metadata": {},
     "output_type": "execute_result"
    }
   ],
   "source": [
    "df.dtypes"
   ]
  },
  {
   "cell_type": "code",
   "execution_count": 29,
   "metadata": {
    "execution": {
     "iopub.execute_input": "2025-02-07T15:02:22.298371Z",
     "iopub.status.busy": "2025-02-07T15:02:22.298020Z",
     "iopub.status.idle": "2025-02-07T15:02:22.308543Z",
     "shell.execute_reply": "2025-02-07T15:02:22.307646Z",
     "shell.execute_reply.started": "2025-02-07T15:02:22.298346Z"
    },
    "trusted": true
   },
   "outputs": [
    {
     "name": "stderr",
     "output_type": "stream",
     "text": [
      "<ipython-input-29-cda1729bbada>:2: FutureWarning: A value is trying to be set on a copy of a DataFrame or Series through chained assignment using an inplace method.\n",
      "The behavior will change in pandas 3.0. This inplace method will never work because the intermediate object on which we are setting values always behaves as a copy.\n",
      "\n",
      "For example, when doing 'df[col].method(value, inplace=True)', try using 'df.method({col: value}, inplace=True)' or df[col] = df[col].method(value) instead, to perform the operation inplace on the original object.\n",
      "\n",
      "\n",
      "  df['depression_severity'].fillna(df['depression_severity'].mode()[0], inplace=True)\n",
      "<ipython-input-29-cda1729bbada>:3: FutureWarning: A value is trying to be set on a copy of a DataFrame or Series through chained assignment using an inplace method.\n",
      "The behavior will change in pandas 3.0. This inplace method will never work because the intermediate object on which we are setting values always behaves as a copy.\n",
      "\n",
      "For example, when doing 'df[col].method(value, inplace=True)', try using 'df.method({col: value}, inplace=True)' or df[col] = df[col].method(value) instead, to perform the operation inplace on the original object.\n",
      "\n",
      "\n",
      "  df['depressiveness'].fillna('False', inplace=True)\n",
      "<ipython-input-29-cda1729bbada>:4: FutureWarning: A value is trying to be set on a copy of a DataFrame or Series through chained assignment using an inplace method.\n",
      "The behavior will change in pandas 3.0. This inplace method will never work because the intermediate object on which we are setting values always behaves as a copy.\n",
      "\n",
      "For example, when doing 'df[col].method(value, inplace=True)', try using 'df.method({col: value}, inplace=True)' or df[col] = df[col].method(value) instead, to perform the operation inplace on the original object.\n",
      "\n",
      "\n",
      "  df['suicidal'].fillna('False', inplace=True)\n",
      "<ipython-input-29-cda1729bbada>:5: FutureWarning: A value is trying to be set on a copy of a DataFrame or Series through chained assignment using an inplace method.\n",
      "The behavior will change in pandas 3.0. This inplace method will never work because the intermediate object on which we are setting values always behaves as a copy.\n",
      "\n",
      "For example, when doing 'df[col].method(value, inplace=True)', try using 'df.method({col: value}, inplace=True)' or df[col] = df[col].method(value) instead, to perform the operation inplace on the original object.\n",
      "\n",
      "\n",
      "  df['depression_diagnosis'].fillna('False', inplace=True)\n",
      "<ipython-input-29-cda1729bbada>:6: FutureWarning: A value is trying to be set on a copy of a DataFrame or Series through chained assignment using an inplace method.\n",
      "The behavior will change in pandas 3.0. This inplace method will never work because the intermediate object on which we are setting values always behaves as a copy.\n",
      "\n",
      "For example, when doing 'df[col].method(value, inplace=True)', try using 'df.method({col: value}, inplace=True)' or df[col] = df[col].method(value) instead, to perform the operation inplace on the original object.\n",
      "\n",
      "\n",
      "  df['depression_treatment'].fillna('False', inplace=True)\n",
      "<ipython-input-29-cda1729bbada>:7: FutureWarning: A value is trying to be set on a copy of a DataFrame or Series through chained assignment using an inplace method.\n",
      "The behavior will change in pandas 3.0. This inplace method will never work because the intermediate object on which we are setting values always behaves as a copy.\n",
      "\n",
      "For example, when doing 'df[col].method(value, inplace=True)', try using 'df.method({col: value}, inplace=True)' or df[col] = df[col].method(value) instead, to perform the operation inplace on the original object.\n",
      "\n",
      "\n",
      "  df['anxiousness'].fillna('False', inplace=True)\n",
      "<ipython-input-29-cda1729bbada>:8: FutureWarning: A value is trying to be set on a copy of a DataFrame or Series through chained assignment using an inplace method.\n",
      "The behavior will change in pandas 3.0. This inplace method will never work because the intermediate object on which we are setting values always behaves as a copy.\n",
      "\n",
      "For example, when doing 'df[col].method(value, inplace=True)', try using 'df.method({col: value}, inplace=True)' or df[col] = df[col].method(value) instead, to perform the operation inplace on the original object.\n",
      "\n",
      "\n",
      "  df['anxiety_diagnosis'].fillna('False', inplace=True)\n",
      "<ipython-input-29-cda1729bbada>:9: FutureWarning: A value is trying to be set on a copy of a DataFrame or Series through chained assignment using an inplace method.\n",
      "The behavior will change in pandas 3.0. This inplace method will never work because the intermediate object on which we are setting values always behaves as a copy.\n",
      "\n",
      "For example, when doing 'df[col].method(value, inplace=True)', try using 'df.method({col: value}, inplace=True)' or df[col] = df[col].method(value) instead, to perform the operation inplace on the original object.\n",
      "\n",
      "\n",
      "  df['anxiety_treatment'].fillna('False', inplace=True)\n",
      "<ipython-input-29-cda1729bbada>:10: FutureWarning: A value is trying to be set on a copy of a DataFrame or Series through chained assignment using an inplace method.\n",
      "The behavior will change in pandas 3.0. This inplace method will never work because the intermediate object on which we are setting values always behaves as a copy.\n",
      "\n",
      "For example, when doing 'df[col].method(value, inplace=True)', try using 'df.method({col: value}, inplace=True)' or df[col] = df[col].method(value) instead, to perform the operation inplace on the original object.\n",
      "\n",
      "\n",
      "  df['epworth_score'].fillna(df['epworth_score'].median(), inplace=True)\n",
      "<ipython-input-29-cda1729bbada>:11: FutureWarning: A value is trying to be set on a copy of a DataFrame or Series through chained assignment using an inplace method.\n",
      "The behavior will change in pandas 3.0. This inplace method will never work because the intermediate object on which we are setting values always behaves as a copy.\n",
      "\n",
      "For example, when doing 'df[col].method(value, inplace=True)', try using 'df.method({col: value}, inplace=True)' or df[col] = df[col].method(value) instead, to perform the operation inplace on the original object.\n",
      "\n",
      "\n",
      "  df['sleepiness'].fillna('False', inplace=True)\n"
     ]
    }
   ],
   "source": [
    "# Fill missing values\n",
    "df['depression_severity'].fillna(df['depression_severity'].mode()[0], inplace=True)\n",
    "df['depressiveness'].fillna('False', inplace=True)\n",
    "df['suicidal'].fillna('False', inplace=True)\n",
    "df['depression_diagnosis'].fillna('False', inplace=True)\n",
    "df['depression_treatment'].fillna('False', inplace=True)\n",
    "df['anxiousness'].fillna('False', inplace=True)\n",
    "df['anxiety_diagnosis'].fillna('False', inplace=True)\n",
    "df['anxiety_treatment'].fillna('False', inplace=True)\n",
    "df['epworth_score'].fillna(df['epworth_score'].median(), inplace=True)\n",
    "df['sleepiness'].fillna('False', inplace=True)\n"
   ]
  },
  {
   "cell_type": "code",
   "execution_count": 30,
   "metadata": {
    "execution": {
     "iopub.execute_input": "2025-02-07T15:02:58.026230Z",
     "iopub.status.busy": "2025-02-07T15:02:58.025877Z",
     "iopub.status.idle": "2025-02-07T15:02:58.032770Z",
     "shell.execute_reply": "2025-02-07T15:02:58.031927Z",
     "shell.execute_reply.started": "2025-02-07T15:02:58.026203Z"
    },
    "trusted": true
   },
   "outputs": [
    {
     "data": {
      "text/plain": [
       "id                        int64\n",
       "school_year               int64\n",
       "age                       int64\n",
       "gender                    int64\n",
       "bmi                     float64\n",
       "who_bmi                 float64\n",
       "phq_score                 int64\n",
       "depression_severity      object\n",
       "depressiveness            int64\n",
       "suicidal                  int64\n",
       "depression_diagnosis      int64\n",
       "depression_treatment      int64\n",
       "gad_score                 int64\n",
       "anxiety_severity         object\n",
       "anxiousness               int64\n",
       "anxiety_diagnosis         int64\n",
       "anxiety_treatment         int64\n",
       "epworth_score           float64\n",
       "sleepiness                int64\n",
       "dtype: object"
      ]
     },
     "execution_count": 30,
     "metadata": {},
     "output_type": "execute_result"
    }
   ],
   "source": [
    "df.dtypes"
   ]
  },
  {
   "cell_type": "code",
   "execution_count": 34,
   "metadata": {
    "execution": {
     "iopub.execute_input": "2025-02-07T15:04:08.850338Z",
     "iopub.status.busy": "2025-02-07T15:04:08.850013Z",
     "iopub.status.idle": "2025-02-07T15:04:08.855786Z",
     "shell.execute_reply": "2025-02-07T15:04:08.855164Z",
     "shell.execute_reply.started": "2025-02-07T15:04:08.850314Z"
    },
    "trusted": true
   },
   "outputs": [
    {
     "data": {
      "text/plain": [
       "array(['Moderate', 'Mild', 'Severe', 'None-minimal', '0'], dtype=object)"
      ]
     },
     "execution_count": 34,
     "metadata": {},
     "output_type": "execute_result"
    }
   ],
   "source": [
    "df['anxiety_severity'].unique()"
   ]
  },
  {
   "cell_type": "code",
   "execution_count": 35,
   "metadata": {
    "execution": {
     "iopub.execute_input": "2025-02-07T15:07:55.198793Z",
     "iopub.status.busy": "2025-02-07T15:07:55.198513Z",
     "iopub.status.idle": "2025-02-07T15:07:55.204049Z",
     "shell.execute_reply": "2025-02-07T15:07:55.203246Z",
     "shell.execute_reply.started": "2025-02-07T15:07:55.198772Z"
    },
    "trusted": true
   },
   "outputs": [],
   "source": [
    "df['anxiety_severity'] = df['anxiety_severity'].map({'Moderate': 4, 'Mild': 1, 'Severe': 2, 'None-minimal':3})"
   ]
  },
  {
   "cell_type": "code",
   "execution_count": 36,
   "metadata": {
    "execution": {
     "iopub.execute_input": "2025-02-07T15:08:04.718055Z",
     "iopub.status.busy": "2025-02-07T15:08:04.717780Z",
     "iopub.status.idle": "2025-02-07T15:08:04.724428Z",
     "shell.execute_reply": "2025-02-07T15:08:04.723673Z",
     "shell.execute_reply.started": "2025-02-07T15:08:04.718033Z"
    },
    "trusted": true
   },
   "outputs": [
    {
     "data": {
      "text/plain": [
       "id                        int64\n",
       "school_year               int64\n",
       "age                       int64\n",
       "gender                    int64\n",
       "bmi                     float64\n",
       "who_bmi                 float64\n",
       "phq_score                 int64\n",
       "depression_severity      object\n",
       "depressiveness            int64\n",
       "suicidal                  int64\n",
       "depression_diagnosis      int64\n",
       "depression_treatment      int64\n",
       "gad_score                 int64\n",
       "anxiety_severity        float64\n",
       "anxiousness               int64\n",
       "anxiety_diagnosis         int64\n",
       "anxiety_treatment         int64\n",
       "epworth_score           float64\n",
       "sleepiness                int64\n",
       "dtype: object"
      ]
     },
     "execution_count": 36,
     "metadata": {},
     "output_type": "execute_result"
    }
   ],
   "source": [
    "df.dtypes"
   ]
  },
  {
   "cell_type": "code",
   "execution_count": 37,
   "metadata": {
    "execution": {
     "iopub.execute_input": "2025-02-07T15:08:44.454752Z",
     "iopub.status.busy": "2025-02-07T15:08:44.454429Z",
     "iopub.status.idle": "2025-02-07T15:08:44.460046Z",
     "shell.execute_reply": "2025-02-07T15:08:44.459423Z",
     "shell.execute_reply.started": "2025-02-07T15:08:44.454724Z"
    },
    "trusted": true
   },
   "outputs": [
    {
     "data": {
      "text/plain": [
       "array(['Mild', 'Moderately severe', 'None-minimal', 'Moderate', 'Severe',\n",
       "       'none'], dtype=object)"
      ]
     },
     "execution_count": 37,
     "metadata": {},
     "output_type": "execute_result"
    }
   ],
   "source": [
    "df['depression_severity'].unique()"
   ]
  },
  {
   "cell_type": "code",
   "execution_count": 38,
   "metadata": {
    "execution": {
     "iopub.execute_input": "2025-02-07T15:13:30.973997Z",
     "iopub.status.busy": "2025-02-07T15:13:30.973704Z",
     "iopub.status.idle": "2025-02-07T15:13:30.979163Z",
     "shell.execute_reply": "2025-02-07T15:13:30.978196Z",
     "shell.execute_reply.started": "2025-02-07T15:13:30.973975Z"
    },
    "trusted": true
   },
   "outputs": [],
   "source": [
    "df['depression_severity'] = df['depression_severity'].map({'Moderately severe': 4, 'Mild': 1, 'None-minimal': 2, 'Moderate':3,'Severe':5,'none':0})"
   ]
  },
  {
   "cell_type": "code",
   "execution_count": 40,
   "metadata": {
    "execution": {
     "iopub.execute_input": "2025-02-07T15:13:43.415993Z",
     "iopub.status.busy": "2025-02-07T15:13:43.415600Z",
     "iopub.status.idle": "2025-02-07T15:13:43.422514Z",
     "shell.execute_reply": "2025-02-07T15:13:43.421609Z",
     "shell.execute_reply.started": "2025-02-07T15:13:43.415961Z"
    },
    "trusted": true
   },
   "outputs": [
    {
     "data": {
      "text/plain": [
       "id                        int64\n",
       "school_year               int64\n",
       "age                       int64\n",
       "gender                    int64\n",
       "bmi                     float64\n",
       "who_bmi                 float64\n",
       "phq_score                 int64\n",
       "depression_severity       int64\n",
       "depressiveness            int64\n",
       "suicidal                  int64\n",
       "depression_diagnosis      int64\n",
       "depression_treatment      int64\n",
       "gad_score                 int64\n",
       "anxiety_severity        float64\n",
       "anxiousness               int64\n",
       "anxiety_diagnosis         int64\n",
       "anxiety_treatment         int64\n",
       "epworth_score           float64\n",
       "sleepiness                int64\n",
       "dtype: object"
      ]
     },
     "execution_count": 40,
     "metadata": {},
     "output_type": "execute_result"
    }
   ],
   "source": [
    "df.dtypes"
   ]
  },
  {
   "cell_type": "code",
   "execution_count": 41,
   "metadata": {
    "execution": {
     "iopub.execute_input": "2025-02-07T15:14:05.192503Z",
     "iopub.status.busy": "2025-02-07T15:14:05.192218Z",
     "iopub.status.idle": "2025-02-07T15:14:05.203993Z",
     "shell.execute_reply": "2025-02-07T15:14:05.203126Z",
     "shell.execute_reply.started": "2025-02-07T15:14:05.192481Z"
    },
    "trusted": true
   },
   "outputs": [
    {
     "name": "stderr",
     "output_type": "stream",
     "text": [
      "<ipython-input-41-d1406b68a759>:1: FutureWarning: A value is trying to be set on a copy of a DataFrame or Series through chained assignment using an inplace method.\n",
      "The behavior will change in pandas 3.0. This inplace method will never work because the intermediate object on which we are setting values always behaves as a copy.\n",
      "\n",
      "For example, when doing 'df[col].method(value, inplace=True)', try using 'df.method({col: value}, inplace=True)' or df[col] = df[col].method(value) instead, to perform the operation inplace on the original object.\n",
      "\n",
      "\n",
      "  df['depression_severity'].fillna(df['depression_severity'].mode()[0], inplace=True)\n",
      "<ipython-input-41-d1406b68a759>:2: FutureWarning: A value is trying to be set on a copy of a DataFrame or Series through chained assignment using an inplace method.\n",
      "The behavior will change in pandas 3.0. This inplace method will never work because the intermediate object on which we are setting values always behaves as a copy.\n",
      "\n",
      "For example, when doing 'df[col].method(value, inplace=True)', try using 'df.method({col: value}, inplace=True)' or df[col] = df[col].method(value) instead, to perform the operation inplace on the original object.\n",
      "\n",
      "\n",
      "  df['depressiveness'].fillna('False', inplace=True)\n",
      "<ipython-input-41-d1406b68a759>:3: FutureWarning: A value is trying to be set on a copy of a DataFrame or Series through chained assignment using an inplace method.\n",
      "The behavior will change in pandas 3.0. This inplace method will never work because the intermediate object on which we are setting values always behaves as a copy.\n",
      "\n",
      "For example, when doing 'df[col].method(value, inplace=True)', try using 'df.method({col: value}, inplace=True)' or df[col] = df[col].method(value) instead, to perform the operation inplace on the original object.\n",
      "\n",
      "\n",
      "  df['suicidal'].fillna('False', inplace=True)\n",
      "<ipython-input-41-d1406b68a759>:4: FutureWarning: A value is trying to be set on a copy of a DataFrame or Series through chained assignment using an inplace method.\n",
      "The behavior will change in pandas 3.0. This inplace method will never work because the intermediate object on which we are setting values always behaves as a copy.\n",
      "\n",
      "For example, when doing 'df[col].method(value, inplace=True)', try using 'df.method({col: value}, inplace=True)' or df[col] = df[col].method(value) instead, to perform the operation inplace on the original object.\n",
      "\n",
      "\n",
      "  df['depression_diagnosis'].fillna('False', inplace=True)\n",
      "<ipython-input-41-d1406b68a759>:5: FutureWarning: A value is trying to be set on a copy of a DataFrame or Series through chained assignment using an inplace method.\n",
      "The behavior will change in pandas 3.0. This inplace method will never work because the intermediate object on which we are setting values always behaves as a copy.\n",
      "\n",
      "For example, when doing 'df[col].method(value, inplace=True)', try using 'df.method({col: value}, inplace=True)' or df[col] = df[col].method(value) instead, to perform the operation inplace on the original object.\n",
      "\n",
      "\n",
      "  df['depression_treatment'].fillna('False', inplace=True)\n",
      "<ipython-input-41-d1406b68a759>:6: FutureWarning: A value is trying to be set on a copy of a DataFrame or Series through chained assignment using an inplace method.\n",
      "The behavior will change in pandas 3.0. This inplace method will never work because the intermediate object on which we are setting values always behaves as a copy.\n",
      "\n",
      "For example, when doing 'df[col].method(value, inplace=True)', try using 'df.method({col: value}, inplace=True)' or df[col] = df[col].method(value) instead, to perform the operation inplace on the original object.\n",
      "\n",
      "\n",
      "  df['anxiousness'].fillna('False', inplace=True)\n",
      "<ipython-input-41-d1406b68a759>:7: FutureWarning: A value is trying to be set on a copy of a DataFrame or Series through chained assignment using an inplace method.\n",
      "The behavior will change in pandas 3.0. This inplace method will never work because the intermediate object on which we are setting values always behaves as a copy.\n",
      "\n",
      "For example, when doing 'df[col].method(value, inplace=True)', try using 'df.method({col: value}, inplace=True)' or df[col] = df[col].method(value) instead, to perform the operation inplace on the original object.\n",
      "\n",
      "\n",
      "  df['anxiety_diagnosis'].fillna('False', inplace=True)\n",
      "<ipython-input-41-d1406b68a759>:8: FutureWarning: A value is trying to be set on a copy of a DataFrame or Series through chained assignment using an inplace method.\n",
      "The behavior will change in pandas 3.0. This inplace method will never work because the intermediate object on which we are setting values always behaves as a copy.\n",
      "\n",
      "For example, when doing 'df[col].method(value, inplace=True)', try using 'df.method({col: value}, inplace=True)' or df[col] = df[col].method(value) instead, to perform the operation inplace on the original object.\n",
      "\n",
      "\n",
      "  df['anxiety_treatment'].fillna('False', inplace=True)\n",
      "<ipython-input-41-d1406b68a759>:9: FutureWarning: A value is trying to be set on a copy of a DataFrame or Series through chained assignment using an inplace method.\n",
      "The behavior will change in pandas 3.0. This inplace method will never work because the intermediate object on which we are setting values always behaves as a copy.\n",
      "\n",
      "For example, when doing 'df[col].method(value, inplace=True)', try using 'df.method({col: value}, inplace=True)' or df[col] = df[col].method(value) instead, to perform the operation inplace on the original object.\n",
      "\n",
      "\n",
      "  df['epworth_score'].fillna(df['epworth_score'].median(), inplace=True)\n",
      "<ipython-input-41-d1406b68a759>:10: FutureWarning: A value is trying to be set on a copy of a DataFrame or Series through chained assignment using an inplace method.\n",
      "The behavior will change in pandas 3.0. This inplace method will never work because the intermediate object on which we are setting values always behaves as a copy.\n",
      "\n",
      "For example, when doing 'df[col].method(value, inplace=True)', try using 'df.method({col: value}, inplace=True)' or df[col] = df[col].method(value) instead, to perform the operation inplace on the original object.\n",
      "\n",
      "\n",
      "  df['sleepiness'].fillna('False', inplace=True)\n"
     ]
    }
   ],
   "source": [
    "df['depression_severity'].fillna(df['depression_severity'].mode()[0], inplace=True)\n",
    "df['depressiveness'].fillna('False', inplace=True)\n",
    "df['suicidal'].fillna('False', inplace=True)\n",
    "df['depression_diagnosis'].fillna('False', inplace=True)\n",
    "df['depression_treatment'].fillna('False', inplace=True)\n",
    "df['anxiousness'].fillna('False', inplace=True)\n",
    "df['anxiety_diagnosis'].fillna('False', inplace=True)\n",
    "df['anxiety_treatment'].fillna('False', inplace=True)\n",
    "df['epworth_score'].fillna(df['epworth_score'].median(), inplace=True)\n",
    "df['sleepiness'].fillna('False', inplace=True)"
   ]
  },
  {
   "cell_type": "code",
   "execution_count": null,
   "metadata": {
    "trusted": true
   },
   "outputs": [],
   "source": []
  },
  {
   "cell_type": "markdown",
   "metadata": {},
   "source": [
    "#  Normalization (for Continuous Variables)"
   ]
  },
  {
   "cell_type": "code",
   "execution_count": 42,
   "metadata": {
    "execution": {
     "iopub.execute_input": "2025-02-07T15:17:04.646019Z",
     "iopub.status.busy": "2025-02-07T15:17:04.645732Z",
     "iopub.status.idle": "2025-02-07T15:17:04.709968Z",
     "shell.execute_reply": "2025-02-07T15:17:04.709145Z",
     "shell.execute_reply.started": "2025-02-07T15:17:04.645997Z"
    },
    "trusted": true
   },
   "outputs": [],
   "source": [
    "from sklearn.preprocessing import MinMaxScaler\n",
    "\n",
    "scaler = MinMaxScaler()\n",
    "df[['bmi', 'phq_score', 'gad_score', 'epworth_score']] = scaler.fit_transform(df[['bmi', 'phq_score', 'gad_score', 'epworth_score']])\n"
   ]
  },
  {
   "cell_type": "code",
   "execution_count": null,
   "metadata": {
    "trusted": true
   },
   "outputs": [],
   "source": []
  },
  {
   "cell_type": "markdown",
   "metadata": {},
   "source": [
    "# Exploratory Data Analysis (EDA)"
   ]
  },
  {
   "cell_type": "code",
   "execution_count": 43,
   "metadata": {
    "execution": {
     "iopub.execute_input": "2025-02-07T15:17:41.133480Z",
     "iopub.status.busy": "2025-02-07T15:17:41.133177Z",
     "iopub.status.idle": "2025-02-07T15:17:42.256618Z",
     "shell.execute_reply": "2025-02-07T15:17:42.255562Z",
     "shell.execute_reply.started": "2025-02-07T15:17:41.133448Z"
    },
    "trusted": true
   },
   "outputs": [
    {
     "data": {
      "image/png": "[encoded data removed]",
      "text/plain": [
       "<Figure size 1200x800 with 2 Axes>"
      ]
     },
     "metadata": {},
     "output_type": "display_data"
    }
   ],
   "source": [
    "import seaborn as sns\n",
    "import matplotlib.pyplot as plt\n",
    "\n",
    "plt.figure(figsize=(12, 8))\n",
    "sns.heatmap(df.corr(), annot=True, cmap='coolwarm')\n",
    "plt.title('Correlation Heatmap')\n",
    "plt.show()\n"
   ]
  },
  {
   "cell_type": "code",
   "execution_count": null,
   "metadata": {
    "trusted": true
   },
   "outputs": [],
   "source": []
  },
  {
   "cell_type": "markdown",
   "metadata": {},
   "source": [
    " # Feature Engineering"
   ]
  },
  {
   "cell_type": "code",
   "execution_count": 44,
   "metadata": {
    "execution": {
     "iopub.execute_input": "2025-02-07T15:18:33.978397Z",
     "iopub.status.busy": "2025-02-07T15:18:33.978031Z",
     "iopub.status.idle": "2025-02-07T15:18:33.986266Z",
     "shell.execute_reply": "2025-02-07T15:18:33.985334Z",
     "shell.execute_reply.started": "2025-02-07T15:18:33.978370Z"
    },
    "trusted": true
   },
   "outputs": [],
   "source": [
    "# Encode categorical features\n",
    "df['gender'] = df['gender'].map({'male': 0, 'female': 1})\n",
    "df['who_bmi'] = df['who_bmi'].map({'Normal': 0, 'Overweight': 1, 'Class I Obesity': 2})\n",
    "\n",
    "# Create a new feature: Mental Health Risk Score\n",
    "df['mental_health_risk'] = df['phq_score'] + df['gad_score']\n"
   ]
  },
  {
   "cell_type": "code",
   "execution_count": 46,
   "metadata": {
    "execution": {
     "iopub.execute_input": "2025-02-07T15:21:54.705056Z",
     "iopub.status.busy": "2025-02-07T15:21:54.704758Z",
     "iopub.status.idle": "2025-02-07T15:21:54.713714Z",
     "shell.execute_reply": "2025-02-07T15:21:54.713039Z",
     "shell.execute_reply.started": "2025-02-07T15:21:54.705034Z"
    },
    "trusted": true
   },
   "outputs": [
    {
     "data": {
      "text/plain": [
       "id                        0\n",
       "school_year               0\n",
       "age                       0\n",
       "gender                  783\n",
       "bmi                       0\n",
       "who_bmi                 783\n",
       "phq_score                 0\n",
       "depression_severity       0\n",
       "depressiveness            0\n",
       "suicidal                  0\n",
       "depression_diagnosis      0\n",
       "depression_treatment      0\n",
       "gad_score                 0\n",
       "anxiety_severity          6\n",
       "anxiousness               0\n",
       "anxiety_diagnosis         0\n",
       "anxiety_treatment         0\n",
       "epworth_score             0\n",
       "sleepiness                0\n",
       "mental_health_risk        0\n",
       "dtype: int64"
      ]
     },
     "execution_count": 46,
     "metadata": {},
     "output_type": "execute_result"
    }
   ],
   "source": [
    "df.isnull().sum()"
   ]
  },
  {
   "cell_type": "code",
   "execution_count": 47,
   "metadata": {
    "execution": {
     "iopub.execute_input": "2025-02-07T15:22:58.947211Z",
     "iopub.status.busy": "2025-02-07T15:22:58.946830Z",
     "iopub.status.idle": "2025-02-07T15:22:58.952536Z",
     "shell.execute_reply": "2025-02-07T15:22:58.951679Z",
     "shell.execute_reply.started": "2025-02-07T15:22:58.947160Z"
    },
    "trusted": true
   },
   "outputs": [
    {
     "data": {
      "text/plain": [
       "(783, 20)"
      ]
     },
     "execution_count": 47,
     "metadata": {},
     "output_type": "execute_result"
    }
   ],
   "source": [
    "df.shape"
   ]
  },
  {
   "cell_type": "code",
   "execution_count": 56,
   "metadata": {
    "execution": {
     "iopub.execute_input": "2025-02-07T15:25:34.285149Z",
     "iopub.status.busy": "2025-02-07T15:25:34.284747Z",
     "iopub.status.idle": "2025-02-07T15:25:34.290957Z",
     "shell.execute_reply": "2025-02-07T15:25:34.289861Z",
     "shell.execute_reply.started": "2025-02-07T15:25:34.285115Z"
    },
    "trusted": true
   },
   "outputs": [],
   "source": [
    "df=df.drop(['gender'],axis=1)"
   ]
  },
  {
   "cell_type": "code",
   "execution_count": 57,
   "metadata": {
    "execution": {
     "iopub.execute_input": "2025-02-07T15:26:01.817862Z",
     "iopub.status.busy": "2025-02-07T15:26:01.817577Z",
     "iopub.status.idle": "2025-02-07T15:26:01.825655Z",
     "shell.execute_reply": "2025-02-07T15:26:01.824941Z",
     "shell.execute_reply.started": "2025-02-07T15:26:01.817840Z"
    },
    "trusted": true
   },
   "outputs": [
    {
     "data": {
      "text/plain": [
       "id                        0\n",
       "school_year               0\n",
       "age                       0\n",
       "bmi                       0\n",
       "who_bmi                 783\n",
       "phq_score                 0\n",
       "depression_severity       0\n",
       "depressiveness            0\n",
       "suicidal                  0\n",
       "depression_diagnosis      0\n",
       "depression_treatment      0\n",
       "gad_score                 0\n",
       "anxiety_severity          6\n",
       "anxiousness               0\n",
       "anxiety_diagnosis         0\n",
       "anxiety_treatment         0\n",
       "epworth_score             0\n",
       "sleepiness                0\n",
       "mental_health_risk        0\n",
       "dtype: int64"
      ]
     },
     "execution_count": 57,
     "metadata": {},
     "output_type": "execute_result"
    }
   ],
   "source": [
    "df.isnull().sum()"
   ]
  },
  {
   "cell_type": "code",
   "execution_count": 58,
   "metadata": {
    "execution": {
     "iopub.execute_input": "2025-02-07T15:26:24.653407Z",
     "iopub.status.busy": "2025-02-07T15:26:24.653053Z",
     "iopub.status.idle": "2025-02-07T15:26:24.658739Z",
     "shell.execute_reply": "2025-02-07T15:26:24.657954Z",
     "shell.execute_reply.started": "2025-02-07T15:26:24.653377Z"
    },
    "trusted": true
   },
   "outputs": [],
   "source": [
    "df=df.drop(['who_bmi'],axis=1)"
   ]
  },
  {
   "cell_type": "code",
   "execution_count": 59,
   "metadata": {
    "execution": {
     "iopub.execute_input": "2025-02-07T15:26:38.948383Z",
     "iopub.status.busy": "2025-02-07T15:26:38.948007Z",
     "iopub.status.idle": "2025-02-07T15:26:38.955853Z",
     "shell.execute_reply": "2025-02-07T15:26:38.955148Z",
     "shell.execute_reply.started": "2025-02-07T15:26:38.948354Z"
    },
    "trusted": true
   },
   "outputs": [
    {
     "data": {
      "text/plain": [
       "id                      0\n",
       "school_year             0\n",
       "age                     0\n",
       "bmi                     0\n",
       "phq_score               0\n",
       "depression_severity     0\n",
       "depressiveness          0\n",
       "suicidal                0\n",
       "depression_diagnosis    0\n",
       "depression_treatment    0\n",
       "gad_score               0\n",
       "anxiety_severity        6\n",
       "anxiousness             0\n",
       "anxiety_diagnosis       0\n",
       "anxiety_treatment       0\n",
       "epworth_score           0\n",
       "sleepiness              0\n",
       "mental_health_risk      0\n",
       "dtype: int64"
      ]
     },
     "execution_count": 59,
     "metadata": {},
     "output_type": "execute_result"
    }
   ],
   "source": [
    "df.isnull().sum()"
   ]
  },
  {
   "cell_type": "markdown",
   "metadata": {},
   "source": [
    "# Feature Selection"
   ]
  },
  {
   "cell_type": "code",
   "execution_count": 61,
   "metadata": {
    "execution": {
     "iopub.execute_input": "2025-02-07T15:26:59.131000Z",
     "iopub.status.busy": "2025-02-07T15:26:59.130719Z",
     "iopub.status.idle": "2025-02-07T15:26:59.152765Z",
     "shell.execute_reply": "2025-02-07T15:26:59.151721Z",
     "shell.execute_reply.started": "2025-02-07T15:26:59.130978Z"
    },
    "trusted": true
   },
   "outputs": [
    {
     "ename": "ValueError",
     "evalue": "Input X contains NaN.\nSelectKBest does not accept missing values encoded as NaN natively. For supervised learning, you might want to consider sklearn.ensemble.HistGradientBoostingClassifier and Regressor which accept missing values encoded as NaNs natively. Alternatively, it is possible to preprocess the data, for instance by using an imputer transformer in a pipeline or drop samples with missing values. See https://scikit-learn.org/stable/modules/impute.html You can find a list of all estimators that handle NaN values at the following page: https://scikit-learn.org/stable/modules/impute.html#estimators-that-handle-nan-values",
     "output_type": "error",
     "traceback": [
      "\u001b[0;31m---------------------------------------------------------------------------\u001b[0m",
      "\u001b[0;31mValueError\u001b[0m                                Traceback (most recent call last)",
      "\u001b[0;32m<ipython-input-61-27b08e34b6d7>\u001b[0m in \u001b[0;36m<cell line: 9>\u001b[0;34m()\u001b[0m\n\u001b[1;32m      7\u001b[0m \u001b[0;31m# Select top 5 features using ANOVA F-test\u001b[0m\u001b[0;34m\u001b[0m\u001b[0;34m\u001b[0m\u001b[0m\n\u001b[1;32m      8\u001b[0m \u001b[0mselector\u001b[0m \u001b[0;34m=\u001b[0m \u001b[0mSelectKBest\u001b[0m\u001b[0;34m(\u001b[0m\u001b[0mscore_func\u001b[0m\u001b[0;34m=\u001b[0m\u001b[0mf_classif\u001b[0m\u001b[0;34m,\u001b[0m \u001b[0mk\u001b[0m\u001b[0;34m=\u001b[0m\u001b[0;36m5\u001b[0m\u001b[0;34m)\u001b[0m\u001b[0;34m\u001b[0m\u001b[0;34m\u001b[0m\u001b[0m\n\u001b[0;32m----> 9\u001b[0;31m \u001b[0mX_new\u001b[0m \u001b[0;34m=\u001b[0m \u001b[0mselector\u001b[0m\u001b[0;34m.\u001b[0m\u001b[0mfit_transform\u001b[0m\u001b[0;34m(\u001b[0m\u001b[0mX\u001b[0m\u001b[0;34m,\u001b[0m \u001b[0my\u001b[0m\u001b[0;34m)\u001b[0m\u001b[0;34m\u001b[0m\u001b[0;34m\u001b[0m\u001b[0m\n\u001b[0m\u001b[1;32m     10\u001b[0m \u001b[0mprint\u001b[0m\u001b[0;34m(\u001b[0m\u001b[0;34m\"Selected features:\\n\"\u001b[0m\u001b[0;34m,\u001b[0m \u001b[0mX\u001b[0m\u001b[0;34m.\u001b[0m\u001b[0mcolumns\u001b[0m\u001b[0;34m[\u001b[0m\u001b[0mselector\u001b[0m\u001b[0;34m.\u001b[0m\u001b[0mget_support\u001b[0m\u001b[0;34m(\u001b[0m\u001b[0;34m)\u001b[0m\u001b[0;34m]\u001b[0m\u001b[0;34m)\u001b[0m\u001b[0;34m\u001b[0m\u001b[0;34m\u001b[0m\u001b[0m\n",
      "\u001b[0;32m/usr/local/lib/python3.10/dist-packages/sklearn/utils/_set_output.py\u001b[0m in \u001b[0;36mwrapped\u001b[0;34m(self, X, *args, **kwargs)\u001b[0m\n\u001b[1;32m    138\u001b[0m     \u001b[0;34m@\u001b[0m\u001b[0mwraps\u001b[0m\u001b[0;34m(\u001b[0m\u001b[0mf\u001b[0m\u001b[0;34m)\u001b[0m\u001b[0;34m\u001b[0m\u001b[0;34m\u001b[0m\u001b[0m\n\u001b[1;32m    139\u001b[0m     \u001b[0;32mdef\u001b[0m \u001b[0mwrapped\u001b[0m\u001b[0;34m(\u001b[0m\u001b[0mself\u001b[0m\u001b[0;34m,\u001b[0m \u001b[0mX\u001b[0m\u001b[0;34m,\u001b[0m \u001b[0;34m*\u001b[0m\u001b[0margs\u001b[0m\u001b[0;34m,\u001b[0m \u001b[0;34m**\u001b[0m\u001b[0mkwargs\u001b[0m\u001b[0;34m)\u001b[0m\u001b[0;34m:\u001b[0m\u001b[0;34m\u001b[0m\u001b[0;34m\u001b[0m\u001b[0m\n\u001b[0;32m--> 140\u001b[0;31m         \u001b[0mdata_to_wrap\u001b[0m \u001b[0;34m=\u001b[0m \u001b[0mf\u001b[0m\u001b[0;34m(\u001b[0m\u001b[0mself\u001b[0m\u001b[0;34m,\u001b[0m \u001b[0mX\u001b[0m\u001b[0;34m,\u001b[0m \u001b[0;34m*\u001b[0m\u001b[0margs\u001b[0m\u001b[0;34m,\u001b[0m \u001b[0;34m**\u001b[0m\u001b[0mkwargs\u001b[0m\u001b[0;34m)\u001b[0m\u001b[0;34m\u001b[0m\u001b[0;34m\u001b[0m\u001b[0m\n\u001b[0m\u001b[1;32m    141\u001b[0m         \u001b[0;32mif\u001b[0m \u001b[0misinstance\u001b[0m\u001b[0;34m(\u001b[0m\u001b[0mdata_to_wrap\u001b[0m\u001b[0;34m,\u001b[0m \u001b[0mtuple\u001b[0m\u001b[0;34m)\u001b[0m\u001b[0;34m:\u001b[0m\u001b[0;34m\u001b[0m\u001b[0;34m\u001b[0m\u001b[0m\n\u001b[1;32m    142\u001b[0m             \u001b[0;31m# only wrap the first output for cross decomposition\u001b[0m\u001b[0;34m\u001b[0m\u001b[0;34m\u001b[0m\u001b[0m\n",
      "\u001b[0;32m/usr/local/lib/python3.10/dist-packages/sklearn/base.py\u001b[0m in \u001b[0;36mfit_transform\u001b[0;34m(self, X, y, **fit_params)\u001b[0m\n\u001b[1;32m    879\u001b[0m         \u001b[0;32melse\u001b[0m\u001b[0;34m:\u001b[0m\u001b[0;34m\u001b[0m\u001b[0;34m\u001b[0m\u001b[0m\n\u001b[1;32m    880\u001b[0m             \u001b[0;31m# fit method of arity 2 (supervised transformation)\u001b[0m\u001b[0;34m\u001b[0m\u001b[0;34m\u001b[0m\u001b[0m\n\u001b[0;32m--> 881\u001b[0;31m             \u001b[0;32mreturn\u001b[0m \u001b[0mself\u001b[0m\u001b[0;34m.\u001b[0m\u001b[0mfit\u001b[0m\u001b[0;34m(\u001b[0m\u001b[0mX\u001b[0m\u001b[0;34m,\u001b[0m \u001b[0my\u001b[0m\u001b[0;34m,\u001b[0m \u001b[0;34m**\u001b[0m\u001b[0mfit_params\u001b[0m\u001b[0;34m)\u001b[0m\u001b[0;34m.\u001b[0m\u001b[0mtransform\u001b[0m\u001b[0;34m(\u001b[0m\u001b[0mX\u001b[0m\u001b[0;34m)\u001b[0m\u001b[0;34m\u001b[0m\u001b[0;34m\u001b[0m\u001b[0m\n\u001b[0m\u001b[1;32m    882\u001b[0m \u001b[0;34m\u001b[0m\u001b[0m\n\u001b[1;32m    883\u001b[0m \u001b[0;34m\u001b[0m\u001b[0m\n",
      "\u001b[0;32m/usr/local/lib/python3.10/dist-packages/sklearn/feature_selection/_univariate_selection.py\u001b[0m in \u001b[0;36mfit\u001b[0;34m(self, X, y)\u001b[0m\n\u001b[1;32m    465\u001b[0m         \u001b[0mself\u001b[0m\u001b[0;34m.\u001b[0m\u001b[0m_validate_params\u001b[0m\u001b[0;34m(\u001b[0m\u001b[0;34m)\u001b[0m\u001b[0;34m\u001b[0m\u001b[0;34m\u001b[0m\u001b[0m\n\u001b[1;32m    466\u001b[0m \u001b[0;34m\u001b[0m\u001b[0m\n\u001b[0;32m--> 467\u001b[0;31m         X, y = self._validate_data(\n\u001b[0m\u001b[1;32m    468\u001b[0m             \u001b[0mX\u001b[0m\u001b[0;34m,\u001b[0m \u001b[0my\u001b[0m\u001b[0;34m,\u001b[0m \u001b[0maccept_sparse\u001b[0m\u001b[0;34m=\u001b[0m\u001b[0;34m[\u001b[0m\u001b[0;34m\"csr\"\u001b[0m\u001b[0;34m,\u001b[0m \u001b[0;34m\"csc\"\u001b[0m\u001b[0;34m]\u001b[0m\u001b[0;34m,\u001b[0m \u001b[0mmulti_output\u001b[0m\u001b[0;34m=\u001b[0m\u001b[0;32mTrue\u001b[0m\u001b[0;34m\u001b[0m\u001b[0;34m\u001b[0m\u001b[0m\n\u001b[1;32m    469\u001b[0m         )\n",
      "\u001b[0;32m/usr/local/lib/python3.10/dist-packages/sklearn/base.py\u001b[0m in \u001b[0;36m_validate_data\u001b[0;34m(self, X, y, reset, validate_separately, **check_params)\u001b[0m\n\u001b[1;32m    582\u001b[0m                 \u001b[0my\u001b[0m \u001b[0;34m=\u001b[0m \u001b[0mcheck_array\u001b[0m\u001b[0;34m(\u001b[0m\u001b[0my\u001b[0m\u001b[0;34m,\u001b[0m \u001b[0minput_name\u001b[0m\u001b[0;34m=\u001b[0m\u001b[0;34m\"y\"\u001b[0m\u001b[0;34m,\u001b[0m \u001b[0;34m**\u001b[0m\u001b[0mcheck_y_params\u001b[0m\u001b[0;34m)\u001b[0m\u001b[0;34m\u001b[0m\u001b[0;34m\u001b[0m\u001b[0m\n\u001b[1;32m    583\u001b[0m             \u001b[0;32melse\u001b[0m\u001b[0;34m:\u001b[0m\u001b[0;34m\u001b[0m\u001b[0;34m\u001b[0m\u001b[0m\n\u001b[0;32m--> 584\u001b[0;31m                 \u001b[0mX\u001b[0m\u001b[0;34m,\u001b[0m \u001b[0my\u001b[0m \u001b[0;34m=\u001b[0m \u001b[0mcheck_X_y\u001b[0m\u001b[0;34m(\u001b[0m\u001b[0mX\u001b[0m\u001b[0;34m,\u001b[0m \u001b[0my\u001b[0m\u001b[0;34m,\u001b[0m \u001b[0;34m**\u001b[0m\u001b[0mcheck_params\u001b[0m\u001b[0;34m)\u001b[0m\u001b[0;34m\u001b[0m\u001b[0;34m\u001b[0m\u001b[0m\n\u001b[0m\u001b[1;32m    585\u001b[0m             \u001b[0mout\u001b[0m \u001b[0;34m=\u001b[0m \u001b[0mX\u001b[0m\u001b[0;34m,\u001b[0m \u001b[0my\u001b[0m\u001b[0;34m\u001b[0m\u001b[0;34m\u001b[0m\u001b[0m\n\u001b[1;32m    586\u001b[0m \u001b[0;34m\u001b[0m\u001b[0m\n",
      "\u001b[0;32m/usr/local/lib/python3.10/dist-packages/sklearn/utils/validation.py\u001b[0m in \u001b[0;36mcheck_X_y\u001b[0;34m(X, y, accept_sparse, accept_large_sparse, dtype, order, copy, force_all_finite, ensure_2d, allow_nd, multi_output, ensure_min_samples, ensure_min_features, y_numeric, estimator)\u001b[0m\n\u001b[1;32m   1104\u001b[0m         )\n\u001b[1;32m   1105\u001b[0m \u001b[0;34m\u001b[0m\u001b[0m\n\u001b[0;32m-> 1106\u001b[0;31m     X = check_array(\n\u001b[0m\u001b[1;32m   1107\u001b[0m         \u001b[0mX\u001b[0m\u001b[0;34m,\u001b[0m\u001b[0;34m\u001b[0m\u001b[0;34m\u001b[0m\u001b[0m\n\u001b[1;32m   1108\u001b[0m         \u001b[0maccept_sparse\u001b[0m\u001b[0;34m=\u001b[0m\u001b[0maccept_sparse\u001b[0m\u001b[0;34m,\u001b[0m\u001b[0;34m\u001b[0m\u001b[0;34m\u001b[0m\u001b[0m\n",
      "\u001b[0;32m/usr/local/lib/python3.10/dist-packages/sklearn/utils/validation.py\u001b[0m in \u001b[0;36mcheck_array\u001b[0;34m(array, accept_sparse, accept_large_sparse, dtype, order, copy, force_all_finite, ensure_2d, allow_nd, ensure_min_samples, ensure_min_features, estimator, input_name)\u001b[0m\n\u001b[1;32m    919\u001b[0m \u001b[0;34m\u001b[0m\u001b[0m\n\u001b[1;32m    920\u001b[0m         \u001b[0;32mif\u001b[0m \u001b[0mforce_all_finite\u001b[0m\u001b[0;34m:\u001b[0m\u001b[0;34m\u001b[0m\u001b[0;34m\u001b[0m\u001b[0m\n\u001b[0;32m--> 921\u001b[0;31m             _assert_all_finite(\n\u001b[0m\u001b[1;32m    922\u001b[0m                 \u001b[0marray\u001b[0m\u001b[0;34m,\u001b[0m\u001b[0;34m\u001b[0m\u001b[0;34m\u001b[0m\u001b[0m\n\u001b[1;32m    923\u001b[0m                 \u001b[0minput_name\u001b[0m\u001b[0;34m=\u001b[0m\u001b[0minput_name\u001b[0m\u001b[0;34m,\u001b[0m\u001b[0;34m\u001b[0m\u001b[0;34m\u001b[0m\u001b[0m\n",
      "\u001b[0;32m/usr/local/lib/python3.10/dist-packages/sklearn/utils/validation.py\u001b[0m in \u001b[0;36m_assert_all_finite\u001b[0;34m(X, allow_nan, msg_dtype, estimator_name, input_name)\u001b[0m\n\u001b[1;32m    159\u001b[0m                 \u001b[0;34m\"#estimators-that-handle-nan-values\"\u001b[0m\u001b[0;34m\u001b[0m\u001b[0;34m\u001b[0m\u001b[0m\n\u001b[1;32m    160\u001b[0m             )\n\u001b[0;32m--> 161\u001b[0;31m         \u001b[0;32mraise\u001b[0m \u001b[0mValueError\u001b[0m\u001b[0;34m(\u001b[0m\u001b[0mmsg_err\u001b[0m\u001b[0;34m)\u001b[0m\u001b[0;34m\u001b[0m\u001b[0;34m\u001b[0m\u001b[0m\n\u001b[0m\u001b[1;32m    162\u001b[0m \u001b[0;34m\u001b[0m\u001b[0m\n\u001b[1;32m    163\u001b[0m \u001b[0;34m\u001b[0m\u001b[0m\n",
      "\u001b[0;31mValueError\u001b[0m: Input X contains NaN.\nSelectKBest does not accept missing values encoded as NaN natively. For supervised learning, you might want to consider sklearn.ensemble.HistGradientBoostingClassifier and Regressor which accept missing values encoded as NaNs natively. Alternatively, it is possible to preprocess the data, for instance by using an imputer transformer in a pipeline or drop samples with missing values. See https://scikit-learn.org/stable/modules/impute.html You can find a list of all estimators that handle NaN values at the following page: https://scikit-learn.org/stable/modules/impute.html#estimators-that-handle-nan-values"
     ]
    }
   ],
   "source": [
    "from sklearn.ensemble import RandomForestClassifier\n",
    "from sklearn.feature_selection import SelectKBest, f_classif\n",
    "\n",
    "X = df.drop(['depression_diagnosis'], axis=1)  # Assuming 'depression_diagnosis' is the target\n",
    "y = df['depression_diagnosis'].astype(int)  # Convert target to integer (0/1)\n",
    "\n",
    "# Select top 5 features using ANOVA F-test\n",
    "selector = SelectKBest(score_func=f_classif, k=5)\n",
    "X_new = selector.fit_transform(X, y)\n",
    "print(\"Selected features:\\n\", X.columns[selector.get_support()])\n"
   ]
  },
  {
   "cell_type": "code",
   "execution_count": 62,
   "metadata": {
    "execution": {
     "iopub.execute_input": "2025-02-07T15:28:24.289036Z",
     "iopub.status.busy": "2025-02-07T15:28:24.288741Z",
     "iopub.status.idle": "2025-02-07T15:28:24.311973Z",
     "shell.execute_reply": "2025-02-07T15:28:24.310609Z",
     "shell.execute_reply.started": "2025-02-07T15:28:24.289013Z"
    },
    "trusted": true
   },
   "outputs": [
    {
     "ename": "ValueError",
     "evalue": "Input X contains NaN.\nSelectKBest does not accept missing values encoded as NaN natively. For supervised learning, you might want to consider sklearn.ensemble.HistGradientBoostingClassifier and Regressor which accept missing values encoded as NaNs natively. Alternatively, it is possible to preprocess the data, for instance by using an imputer transformer in a pipeline or drop samples with missing values. See https://scikit-learn.org/stable/modules/impute.html You can find a list of all estimators that handle NaN values at the following page: https://scikit-learn.org/stable/modules/impute.html#estimators-that-handle-nan-values",
     "output_type": "error",
     "traceback": [
      "\u001b[0;31m---------------------------------------------------------------------------\u001b[0m",
      "\u001b[0;31mValueError\u001b[0m                                Traceback (most recent call last)",
      "\u001b[0;32m<ipython-input-62-f9a0b22dfd53>\u001b[0m in \u001b[0;36m<cell line: 8>\u001b[0;34m()\u001b[0m\n\u001b[1;32m      6\u001b[0m \u001b[0;31m# Select top 5 features using ANOVA F-test\u001b[0m\u001b[0;34m\u001b[0m\u001b[0;34m\u001b[0m\u001b[0m\n\u001b[1;32m      7\u001b[0m \u001b[0mselector\u001b[0m \u001b[0;34m=\u001b[0m \u001b[0mSelectKBest\u001b[0m\u001b[0;34m(\u001b[0m\u001b[0mscore_func\u001b[0m\u001b[0;34m=\u001b[0m\u001b[0mf_classif\u001b[0m\u001b[0;34m,\u001b[0m \u001b[0mk\u001b[0m\u001b[0;34m=\u001b[0m\u001b[0;36m5\u001b[0m\u001b[0;34m)\u001b[0m\u001b[0;34m\u001b[0m\u001b[0;34m\u001b[0m\u001b[0m\n\u001b[0;32m----> 8\u001b[0;31m \u001b[0mX_new\u001b[0m \u001b[0;34m=\u001b[0m \u001b[0mselector\u001b[0m\u001b[0;34m.\u001b[0m\u001b[0mfit_transform\u001b[0m\u001b[0;34m(\u001b[0m\u001b[0mX\u001b[0m\u001b[0;34m,\u001b[0m \u001b[0my\u001b[0m\u001b[0;34m)\u001b[0m\u001b[0;34m\u001b[0m\u001b[0;34m\u001b[0m\u001b[0m\n\u001b[0m\u001b[1;32m      9\u001b[0m \u001b[0;34m\u001b[0m\u001b[0m\n\u001b[1;32m     10\u001b[0m \u001b[0;31m# Display the selected features\u001b[0m\u001b[0;34m\u001b[0m\u001b[0;34m\u001b[0m\u001b[0m\n",
      "\u001b[0;32m/usr/local/lib/python3.10/dist-packages/sklearn/utils/_set_output.py\u001b[0m in \u001b[0;36mwrapped\u001b[0;34m(self, X, *args, **kwargs)\u001b[0m\n\u001b[1;32m    138\u001b[0m     \u001b[0;34m@\u001b[0m\u001b[0mwraps\u001b[0m\u001b[0;34m(\u001b[0m\u001b[0mf\u001b[0m\u001b[0;34m)\u001b[0m\u001b[0;34m\u001b[0m\u001b[0;34m\u001b[0m\u001b[0m\n\u001b[1;32m    139\u001b[0m     \u001b[0;32mdef\u001b[0m \u001b[0mwrapped\u001b[0m\u001b[0;34m(\u001b[0m\u001b[0mself\u001b[0m\u001b[0;34m,\u001b[0m \u001b[0mX\u001b[0m\u001b[0;34m,\u001b[0m \u001b[0;34m*\u001b[0m\u001b[0margs\u001b[0m\u001b[0;34m,\u001b[0m \u001b[0;34m**\u001b[0m\u001b[0mkwargs\u001b[0m\u001b[0;34m)\u001b[0m\u001b[0;34m:\u001b[0m\u001b[0;34m\u001b[0m\u001b[0;34m\u001b[0m\u001b[0m\n\u001b[0;32m--> 140\u001b[0;31m         \u001b[0mdata_to_wrap\u001b[0m \u001b[0;34m=\u001b[0m \u001b[0mf\u001b[0m\u001b[0;34m(\u001b[0m\u001b[0mself\u001b[0m\u001b[0;34m,\u001b[0m \u001b[0mX\u001b[0m\u001b[0;34m,\u001b[0m \u001b[0;34m*\u001b[0m\u001b[0margs\u001b[0m\u001b[0;34m,\u001b[0m \u001b[0;34m**\u001b[0m\u001b[0mkwargs\u001b[0m\u001b[0;34m)\u001b[0m\u001b[0;34m\u001b[0m\u001b[0;34m\u001b[0m\u001b[0m\n\u001b[0m\u001b[1;32m    141\u001b[0m         \u001b[0;32mif\u001b[0m \u001b[0misinstance\u001b[0m\u001b[0;34m(\u001b[0m\u001b[0mdata_to_wrap\u001b[0m\u001b[0;34m,\u001b[0m \u001b[0mtuple\u001b[0m\u001b[0;34m)\u001b[0m\u001b[0;34m:\u001b[0m\u001b[0;34m\u001b[0m\u001b[0;34m\u001b[0m\u001b[0m\n\u001b[1;32m    142\u001b[0m             \u001b[0;31m# only wrap the first output for cross decomposition\u001b[0m\u001b[0;34m\u001b[0m\u001b[0;34m\u001b[0m\u001b[0m\n",
      "\u001b[0;32m/usr/local/lib/python3.10/dist-packages/sklearn/base.py\u001b[0m in \u001b[0;36mfit_transform\u001b[0;34m(self, X, y, **fit_params)\u001b[0m\n\u001b[1;32m    879\u001b[0m         \u001b[0;32melse\u001b[0m\u001b[0;34m:\u001b[0m\u001b[0;34m\u001b[0m\u001b[0;34m\u001b[0m\u001b[0m\n\u001b[1;32m    880\u001b[0m             \u001b[0;31m# fit method of arity 2 (supervised transformation)\u001b[0m\u001b[0;34m\u001b[0m\u001b[0;34m\u001b[0m\u001b[0m\n\u001b[0;32m--> 881\u001b[0;31m             \u001b[0;32mreturn\u001b[0m \u001b[0mself\u001b[0m\u001b[0;34m.\u001b[0m\u001b[0mfit\u001b[0m\u001b[0;34m(\u001b[0m\u001b[0mX\u001b[0m\u001b[0;34m,\u001b[0m \u001b[0my\u001b[0m\u001b[0;34m,\u001b[0m \u001b[0;34m**\u001b[0m\u001b[0mfit_params\u001b[0m\u001b[0;34m)\u001b[0m\u001b[0;34m.\u001b[0m\u001b[0mtransform\u001b[0m\u001b[0;34m(\u001b[0m\u001b[0mX\u001b[0m\u001b[0;34m)\u001b[0m\u001b[0;34m\u001b[0m\u001b[0;34m\u001b[0m\u001b[0m\n\u001b[0m\u001b[1;32m    882\u001b[0m \u001b[0;34m\u001b[0m\u001b[0m\n\u001b[1;32m    883\u001b[0m \u001b[0;34m\u001b[0m\u001b[0m\n",
      "\u001b[0;32m/usr/local/lib/python3.10/dist-packages/sklearn/feature_selection/_univariate_selection.py\u001b[0m in \u001b[0;36mfit\u001b[0;34m(self, X, y)\u001b[0m\n\u001b[1;32m    465\u001b[0m         \u001b[0mself\u001b[0m\u001b[0;34m.\u001b[0m\u001b[0m_validate_params\u001b[0m\u001b[0;34m(\u001b[0m\u001b[0;34m)\u001b[0m\u001b[0;34m\u001b[0m\u001b[0;34m\u001b[0m\u001b[0m\n\u001b[1;32m    466\u001b[0m \u001b[0;34m\u001b[0m\u001b[0m\n\u001b[0;32m--> 467\u001b[0;31m         X, y = self._validate_data(\n\u001b[0m\u001b[1;32m    468\u001b[0m             \u001b[0mX\u001b[0m\u001b[0;34m,\u001b[0m \u001b[0my\u001b[0m\u001b[0;34m,\u001b[0m \u001b[0maccept_sparse\u001b[0m\u001b[0;34m=\u001b[0m\u001b[0;34m[\u001b[0m\u001b[0;34m\"csr\"\u001b[0m\u001b[0;34m,\u001b[0m \u001b[0;34m\"csc\"\u001b[0m\u001b[0;34m]\u001b[0m\u001b[0;34m,\u001b[0m \u001b[0mmulti_output\u001b[0m\u001b[0;34m=\u001b[0m\u001b[0;32mTrue\u001b[0m\u001b[0;34m\u001b[0m\u001b[0;34m\u001b[0m\u001b[0m\n\u001b[1;32m    469\u001b[0m         )\n",
      "\u001b[0;32m/usr/local/lib/python3.10/dist-packages/sklearn/base.py\u001b[0m in \u001b[0;36m_validate_data\u001b[0;34m(self, X, y, reset, validate_separately, **check_params)\u001b[0m\n\u001b[1;32m    582\u001b[0m                 \u001b[0my\u001b[0m \u001b[0;34m=\u001b[0m \u001b[0mcheck_array\u001b[0m\u001b[0;34m(\u001b[0m\u001b[0my\u001b[0m\u001b[0;34m,\u001b[0m \u001b[0minput_name\u001b[0m\u001b[0;34m=\u001b[0m\u001b[0;34m\"y\"\u001b[0m\u001b[0;34m,\u001b[0m \u001b[0;34m**\u001b[0m\u001b[0mcheck_y_params\u001b[0m\u001b[0;34m)\u001b[0m\u001b[0;34m\u001b[0m\u001b[0;34m\u001b[0m\u001b[0m\n\u001b[1;32m    583\u001b[0m             \u001b[0;32melse\u001b[0m\u001b[0;34m:\u001b[0m\u001b[0;34m\u001b[0m\u001b[0;34m\u001b[0m\u001b[0m\n\u001b[0;32m--> 584\u001b[0;31m                 \u001b[0mX\u001b[0m\u001b[0;34m,\u001b[0m \u001b[0my\u001b[0m \u001b[0;34m=\u001b[0m \u001b[0mcheck_X_y\u001b[0m\u001b[0;34m(\u001b[0m\u001b[0mX\u001b[0m\u001b[0;34m,\u001b[0m \u001b[0my\u001b[0m\u001b[0;34m,\u001b[0m \u001b[0;34m**\u001b[0m\u001b[0mcheck_params\u001b[0m\u001b[0;34m)\u001b[0m\u001b[0;34m\u001b[0m\u001b[0;34m\u001b[0m\u001b[0m\n\u001b[0m\u001b[1;32m    585\u001b[0m             \u001b[0mout\u001b[0m \u001b[0;34m=\u001b[0m \u001b[0mX\u001b[0m\u001b[0;34m,\u001b[0m \u001b[0my\u001b[0m\u001b[0;34m\u001b[0m\u001b[0;34m\u001b[0m\u001b[0m\n\u001b[1;32m    586\u001b[0m \u001b[0;34m\u001b[0m\u001b[0m\n",
      "\u001b[0;32m/usr/local/lib/python3.10/dist-packages/sklearn/utils/validation.py\u001b[0m in \u001b[0;36mcheck_X_y\u001b[0;34m(X, y, accept_sparse, accept_large_sparse, dtype, order, copy, force_all_finite, ensure_2d, allow_nd, multi_output, ensure_min_samples, ensure_min_features, y_numeric, estimator)\u001b[0m\n\u001b[1;32m   1104\u001b[0m         )\n\u001b[1;32m   1105\u001b[0m \u001b[0;34m\u001b[0m\u001b[0m\n\u001b[0;32m-> 1106\u001b[0;31m     X = check_array(\n\u001b[0m\u001b[1;32m   1107\u001b[0m         \u001b[0mX\u001b[0m\u001b[0;34m,\u001b[0m\u001b[0;34m\u001b[0m\u001b[0;34m\u001b[0m\u001b[0m\n\u001b[1;32m   1108\u001b[0m         \u001b[0maccept_sparse\u001b[0m\u001b[0;34m=\u001b[0m\u001b[0maccept_sparse\u001b[0m\u001b[0;34m,\u001b[0m\u001b[0;34m\u001b[0m\u001b[0;34m\u001b[0m\u001b[0m\n",
      "\u001b[0;32m/usr/local/lib/python3.10/dist-packages/sklearn/utils/validation.py\u001b[0m in \u001b[0;36mcheck_array\u001b[0;34m(array, accept_sparse, accept_large_sparse, dtype, order, copy, force_all_finite, ensure_2d, allow_nd, ensure_min_samples, ensure_min_features, estimator, input_name)\u001b[0m\n\u001b[1;32m    919\u001b[0m \u001b[0;34m\u001b[0m\u001b[0m\n\u001b[1;32m    920\u001b[0m         \u001b[0;32mif\u001b[0m \u001b[0mforce_all_finite\u001b[0m\u001b[0;34m:\u001b[0m\u001b[0;34m\u001b[0m\u001b[0;34m\u001b[0m\u001b[0m\n\u001b[0;32m--> 921\u001b[0;31m             _assert_all_finite(\n\u001b[0m\u001b[1;32m    922\u001b[0m                 \u001b[0marray\u001b[0m\u001b[0;34m,\u001b[0m\u001b[0;34m\u001b[0m\u001b[0;34m\u001b[0m\u001b[0m\n\u001b[1;32m    923\u001b[0m                 \u001b[0minput_name\u001b[0m\u001b[0;34m=\u001b[0m\u001b[0minput_name\u001b[0m\u001b[0;34m,\u001b[0m\u001b[0;34m\u001b[0m\u001b[0;34m\u001b[0m\u001b[0m\n",
      "\u001b[0;32m/usr/local/lib/python3.10/dist-packages/sklearn/utils/validation.py\u001b[0m in \u001b[0;36m_assert_all_finite\u001b[0;34m(X, allow_nan, msg_dtype, estimator_name, input_name)\u001b[0m\n\u001b[1;32m    159\u001b[0m                 \u001b[0;34m\"#estimators-that-handle-nan-values\"\u001b[0m\u001b[0;34m\u001b[0m\u001b[0;34m\u001b[0m\u001b[0m\n\u001b[1;32m    160\u001b[0m             )\n\u001b[0;32m--> 161\u001b[0;31m         \u001b[0;32mraise\u001b[0m \u001b[0mValueError\u001b[0m\u001b[0;34m(\u001b[0m\u001b[0mmsg_err\u001b[0m\u001b[0;34m)\u001b[0m\u001b[0;34m\u001b[0m\u001b[0;34m\u001b[0m\u001b[0m\n\u001b[0m\u001b[1;32m    162\u001b[0m \u001b[0;34m\u001b[0m\u001b[0m\n\u001b[1;32m    163\u001b[0m \u001b[0;34m\u001b[0m\u001b[0m\n",
      "\u001b[0;31mValueError\u001b[0m: Input X contains NaN.\nSelectKBest does not accept missing values encoded as NaN natively. For supervised learning, you might want to consider sklearn.ensemble.HistGradientBoostingClassifier and Regressor which accept missing values encoded as NaNs natively. Alternatively, it is possible to preprocess the data, for instance by using an imputer transformer in a pipeline or drop samples with missing values. See https://scikit-learn.org/stable/modules/impute.html You can find a list of all estimators that handle NaN values at the following page: https://scikit-learn.org/stable/modules/impute.html#estimators-that-handle-nan-values"
     ]
    }
   ],
   "source": [
    "from sklearn.feature_selection import SelectKBest, f_classif\n",
    "\n",
    "X = df.drop(['depression_diagnosis'], axis=1)  # Assuming 'depression_diagnosis' is the target\n",
    "y = df['depression_diagnosis'].astype(int)  # Ensure target is integer (0/1)\n",
    "\n",
    "# Select top 5 features using ANOVA F-test\n",
    "selector = SelectKBest(score_func=f_classif, k=5)\n",
    "X_new = selector.fit_transform(X, y)\n",
    "\n",
    "# Display the selected features\n",
    "selected_features = X.columns[selector.get_support()]\n",
    "print(\"Selected features:\", selected_features)\n"
   ]
  },
  {
   "cell_type": "code",
   "execution_count": 63,
   "metadata": {
    "execution": {
     "iopub.execute_input": "2025-02-07T15:30:55.934285Z",
     "iopub.status.busy": "2025-02-07T15:30:55.933912Z",
     "iopub.status.idle": "2025-02-07T15:30:55.938018Z",
     "shell.execute_reply": "2025-02-07T15:30:55.937175Z",
     "shell.execute_reply.started": "2025-02-07T15:30:55.934255Z"
    },
    "trusted": true
   },
   "outputs": [],
   "source": [
    "from sklearn.preprocessing import StandardScaler"
   ]
  },
  {
   "cell_type": "code",
   "execution_count": 64,
   "metadata": {
    "execution": {
     "iopub.execute_input": "2025-02-07T15:31:01.840978Z",
     "iopub.status.busy": "2025-02-07T15:31:01.840676Z",
     "iopub.status.idle": "2025-02-07T15:31:01.852054Z",
     "shell.execute_reply": "2025-02-07T15:31:01.850957Z",
     "shell.execute_reply.started": "2025-02-07T15:31:01.840956Z"
    },
    "trusted": true
   },
   "outputs": [
    {
     "ename": "NameError",
     "evalue": "name 'X_train' is not defined",
     "output_type": "error",
     "traceback": [
      "\u001b[0;31m---------------------------------------------------------------------------\u001b[0m",
      "\u001b[0;31mNameError\u001b[0m                                 Traceback (most recent call last)",
      "\u001b[0;32m<ipython-input-64-a742f5d03ef9>\u001b[0m in \u001b[0;36m<cell line: 2>\u001b[0;34m()\u001b[0m\n\u001b[1;32m      1\u001b[0m \u001b[0mscaler\u001b[0m \u001b[0;34m=\u001b[0m \u001b[0mStandardScaler\u001b[0m\u001b[0;34m(\u001b[0m\u001b[0;34m)\u001b[0m\u001b[0;34m\u001b[0m\u001b[0;34m\u001b[0m\u001b[0m\n\u001b[0;32m----> 2\u001b[0;31m \u001b[0mX_train_scaled\u001b[0m \u001b[0;34m=\u001b[0m \u001b[0mscaler\u001b[0m\u001b[0;34m.\u001b[0m\u001b[0mfit_transform\u001b[0m\u001b[0;34m(\u001b[0m\u001b[0mX_train\u001b[0m\u001b[0;34m)\u001b[0m\u001b[0;34m\u001b[0m\u001b[0;34m\u001b[0m\u001b[0m\n\u001b[0m\u001b[1;32m      3\u001b[0m \u001b[0mX_test_scaled\u001b[0m \u001b[0;34m=\u001b[0m \u001b[0mscaler\u001b[0m\u001b[0;34m.\u001b[0m\u001b[0mtransform\u001b[0m\u001b[0;34m(\u001b[0m\u001b[0mX_test\u001b[0m\u001b[0;34m)\u001b[0m\u001b[0;34m\u001b[0m\u001b[0;34m\u001b[0m\u001b[0m\n",
      "\u001b[0;31mNameError\u001b[0m: name 'X_train' is not defined"
     ]
    }
   ],
   "source": [
    "scaler = StandardScaler()\n",
    "X_train_scaled = scaler.fit_transform(X_train)\n",
    "X_test_scaled = scaler.transform(X_test)"
   ]
  },
  {
   "cell_type": "markdown",
   "metadata": {},
   "source": [
    "# Data Preparation & Splitting"
   ]
  },
  {
   "cell_type": "code",
   "execution_count": 65,
   "metadata": {
    "execution": {
     "iopub.execute_input": "2025-02-07T15:39:06.864377Z",
     "iopub.status.busy": "2025-02-07T15:39:06.863934Z",
     "iopub.status.idle": "2025-02-07T15:39:06.906719Z",
     "shell.execute_reply": "2025-02-07T15:39:06.906006Z",
     "shell.execute_reply.started": "2025-02-07T15:39:06.864332Z"
    },
    "trusted": true
   },
   "outputs": [],
   "source": [
    "import pandas as pd\n",
    "from sklearn.model_selection import train_test_split\n",
    "from sklearn.preprocessing import LabelEncoder\n",
    "\n",
    "\n",
    "\n",
    "# Handle missing values and standardize numerical columns (already done in the previous steps)\n",
    "from sklearn.impute import SimpleImputer\n",
    "from sklearn.preprocessing import StandardScaler\n",
    "\n",
    "# Impute missing values\n",
    "num_imputer = SimpleImputer(strategy='median')\n",
    "num_cols = ['bmi', 'phq_score', 'gad_score', 'epworth_score']\n",
    "df[num_cols] = num_imputer.fit_transform(df[num_cols])\n",
    "\n",
    "cat_imputer = SimpleImputer(strategy='most_frequent')\n",
    "cat_cols = ['depression_severity', 'anxiety_severity', 'depressiveness', 'suicidal',\n",
    "            'depression_diagnosis', 'depression_treatment', 'anxiousness', \n",
    "            'anxiety_diagnosis', 'anxiety_treatment', 'sleepiness']\n",
    "df[cat_cols] = cat_imputer.fit_transform(df[cat_cols])\n",
    "\n",
    "# Standardize the numerical columns\n",
    "scaler = StandardScaler()\n",
    "df[num_cols] = scaler.fit_transform(df[num_cols])\n",
    "\n",
    "# Encode categorical labels for multi-class prediction (combining depression and anxiety)\n",
    "df['mental_health_condition'] = df['depression_diagnosis'].astype(str) + '_' + df['anxiety_diagnosis'].astype(str)\n",
    "encoder = LabelEncoder()\n",
    "df['condition_label'] = encoder.fit_transform(df['mental_health_condition'])\n",
    "\n",
    "# Split the dataset into training and test sets\n",
    "X = df.drop(['condition_label', 'mental_health_condition', 'depression_diagnosis', 'anxiety_diagnosis'], axis=1)\n",
    "y = df['condition_label']\n",
    "\n",
    "X_train, X_test, y_train, y_test = train_test_split(X, y, test_size=0.2, random_state=42)\n"
   ]
  },
  {
   "cell_type": "markdown",
   "metadata": {},
   "source": [
    "# Train and Compare Models (Logistic Regression, Random Forest, XGBoost)"
   ]
  },
  {
   "cell_type": "code",
   "execution_count": 66,
   "metadata": {
    "execution": {
     "iopub.execute_input": "2025-02-07T15:39:51.183689Z",
     "iopub.status.busy": "2025-02-07T15:39:51.183364Z",
     "iopub.status.idle": "2025-02-07T15:39:52.232544Z",
     "shell.execute_reply": "2025-02-07T15:39:52.231867Z",
     "shell.execute_reply.started": "2025-02-07T15:39:51.183659Z"
    },
    "trusted": true
   },
   "outputs": [
    {
     "name": "stderr",
     "output_type": "stream",
     "text": [
      "/usr/local/lib/python3.10/dist-packages/sklearn/linear_model/_logistic.py:458: ConvergenceWarning: lbfgs failed to converge (status=1):\n",
      "STOP: TOTAL NO. of ITERATIONS REACHED LIMIT.\n",
      "\n",
      "Increase the number of iterations (max_iter) or scale the data as shown in:\n",
      "    https://scikit-learn.org/stable/modules/preprocessing.html\n",
      "Please also refer to the documentation for alternative solver options:\n",
      "    https://scikit-learn.org/stable/modules/linear_model.html#logistic-regression\n",
      "  n_iter_i = _check_optimize_result(\n"
     ]
    },
    {
     "name": "stdout",
     "output_type": "stream",
     "text": [
      "--- Logistic Regression ---\n",
      "              precision    recall  f1-score   support\n",
      "\n",
      "           0       0.95      0.98      0.97       143\n",
      "           1       0.00      0.00      0.00         2\n",
      "           2       0.33      0.20      0.25         5\n",
      "           3       0.67      0.57      0.62         7\n",
      "\n",
      "    accuracy                           0.92       157\n",
      "   macro avg       0.49      0.44      0.46       157\n",
      "weighted avg       0.91      0.92      0.91       157\n",
      "\n",
      "Accuracy: 0.9235668789808917\n",
      "\n",
      "--- Random Forest ---\n",
      "              precision    recall  f1-score   support\n",
      "\n",
      "           0       0.96      0.98      0.97       143\n",
      "           1       0.33      0.50      0.40         2\n",
      "           2       0.50      0.40      0.44         5\n",
      "           3       0.75      0.43      0.55         7\n",
      "\n",
      "    accuracy                           0.93       157\n",
      "   macro avg       0.64      0.58      0.59       157\n",
      "weighted avg       0.93      0.93      0.93       157\n",
      "\n",
      "Accuracy: 0.9299363057324841\n",
      "\n",
      "--- XGBoost ---\n",
      "              precision    recall  f1-score   support\n",
      "\n",
      "           0       0.96      0.97      0.97       143\n",
      "           1       1.00      0.50      0.67         2\n",
      "           2       0.40      0.40      0.40         5\n",
      "           3       0.67      0.57      0.62         7\n",
      "\n",
      "    accuracy                           0.93       157\n",
      "   macro avg       0.76      0.61      0.66       157\n",
      "weighted avg       0.93      0.93      0.93       157\n",
      "\n",
      "Accuracy: 0.9299363057324841\n",
      "\n"
     ]
    }
   ],
   "source": [
    "from sklearn.linear_model import LogisticRegression\n",
    "from sklearn.ensemble import RandomForestClassifier\n",
    "from xgboost import XGBClassifier\n",
    "from sklearn.metrics import classification_report, roc_auc_score, accuracy_score\n",
    "\n",
    "# Initialize models\n",
    "log_reg = LogisticRegression(multi_class='ovr', max_iter=500)\n",
    "rf = RandomForestClassifier(random_state=42)\n",
    "xgb = XGBClassifier(eval_metric='mlogloss', use_label_encoder=False)\n",
    "\n",
    "# Train models\n",
    "log_reg.fit(X_train, y_train)\n",
    "rf.fit(X_train, y_train)\n",
    "xgb.fit(X_train, y_train)\n",
    "\n",
    "# Evaluate models on the test set\n",
    "models = {'Logistic Regression': log_reg, 'Random Forest': rf, 'XGBoost': xgb}\n",
    "for name, model in models.items():\n",
    "    y_pred = model.predict(X_test)\n",
    "    print(f\"--- {name} ---\")\n",
    "    print(classification_report(y_test, y_pred))\n",
    "    print(f\"Accuracy: {accuracy_score(y_test, y_pred)}\\n\")\n"
   ]
  },
  {
   "cell_type": "code",
   "execution_count": 67,
   "metadata": {
    "execution": {
     "iopub.execute_input": "2025-02-07T15:41:29.948525Z",
     "iopub.status.busy": "2025-02-07T15:41:29.948197Z",
     "iopub.status.idle": "2025-02-07T15:41:29.983081Z",
     "shell.execute_reply": "2025-02-07T15:41:29.981864Z",
     "shell.execute_reply.started": "2025-02-07T15:41:29.948502Z"
    },
    "trusted": true
   },
   "outputs": [
    {
     "name": "stdout",
     "output_type": "stream",
     "text": [
      "ROC-AUC for Logistic Regression: 0.7949\n",
      "ROC-AUC for Random Forest: 0.8211\n",
      "ROC-AUC for XGBoost: 0.7881\n"
     ]
    }
   ],
   "source": [
    "from sklearn.metrics import roc_auc_score\n",
    "for name, model in models.items():\n",
    "    y_pred_proba = model.predict_proba(X_test)\n",
    "    roc_auc = roc_auc_score(y_test, y_pred_proba, multi_class='ovr')\n",
    "    print(f\"ROC-AUC for {name}: {roc_auc:.4f}\")\n"
   ]
  },
  {
   "cell_type": "code",
   "execution_count": null,
   "metadata": {
    "trusted": true
   },
   "outputs": [],
   "source": []
  }
 ],
 "metadata": {
  "kernelspec": {
   "display_name": "Python 3",
   "language": "python",
   "name": "python3"
  },
  "language_info": {
   "codemirror_mode": {
    "name": "ipython",
    "version": 3
   },
   "file_extension": ".py",
   "mimetype": "text/x-python",
   "name": "python",
   "nbconvert_exporter": "python",
   "pygments_lexer": "ipython3",
   "version": "3.10.12"
  }
 },
 "nbformat": 4,
 "nbformat_minor": 4
}
